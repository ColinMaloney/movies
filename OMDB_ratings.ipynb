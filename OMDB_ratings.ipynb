{
 "cells": [
  {
   "cell_type": "code",
   "execution_count": null,
   "metadata": {},
   "outputs": [],
   "source": [
    "import requests\n",
    "from bs4 import BeautifulSoup\n",
    "import re \n",
    "import pandas as pd \n",
    "import json\n",
    "import time"
   ]
  },
  {
   "cell_type": "code",
   "execution_count": 1,
   "metadata": {},
   "outputs": [],
   "source": [
    "#Their posted limit was 1000 requests a day\n",
    "api_key = 'http://www.omdbapi.com/?i=tt3896198&apikey=b213361e'"
   ]
  },
  {
   "cell_type": "code",
   "execution_count": null,
   "metadata": {},
   "outputs": [],
   "source": [
    "http://www.omdbapi.com/?t=Good+Boys&y=2019&apikey=b213361e"
   ]
  },
  {
   "cell_type": "code",
   "execution_count": null,
   "metadata": {},
   "outputs": [],
   "source": [
    "{\"Title\":\"Good Boys\",\"Year\":\"2019\",\"Rated\":\"R\",\"Released\":\"16 Aug 2019\",\"Runtime\":\"89 min\",\n",
    " \"Genre\":\"Adventure, Comedy\",\"Director\":\"Gene Stupnitsky\",\"Writer\":\"Lee Eisenberg, Gene Stupnitsky\",\n",
    " \"Actors\":\"Jacob Tremblay, Keith L. Williams, Brady Noon, Molly Gordon\",\n",
    " \"Plot\":\"Three 6th grade boys ditch school and embark on an epic journey while carrying accidentally \n",
    " stolen drugs, being hunted by teenage girls, and trying to make their way home in time for a long-awaited\n",
    " party.\",\"Language\":\"English\",\"Country\":\"USA\",\"Awards\":\"N/A\",\"Poster\":\n",
    " \"https://m.media-amazon.com/images/M/MV5BMTc1NjIzODAxMF5BMl5BanBnXkFtZTgwMTgzNzk1NzM@._V1_SX300.jpg\",\n",
    " \"Ratings\":[{\"Source\":\"Internet Movie Database\",\"Value\":\"6.9/10\"},{\"Source\":\"Rotten Tomatoes\",\"Value\":\"85%\"},\n",
    "            {\"Source\":\"Metacritic\",\"Value\":\"60/100\"}],\"Metascore\":\"60\",\"imdbRating\":\"6.9\",\"imdbVotes\":\"9,550\",\n",
    " \"imdbID\":\"tt7343762\",\"Type\":\"movie\",\"DVD\":\"N/A\",\"BoxOffice\":\"N/A\",\"Production\":\"Universal Pictures\",\n",
    " \"Website\":\"http://www.goodboysmovie.com/\",\"Response\":\"True\"}"
   ]
  }
 ],
 "metadata": {
  "kernelspec": {
   "display_name": "Python 3",
   "language": "python",
   "name": "python3"
  },
  "language_info": {
   "codemirror_mode": {
    "name": "ipython",
    "version": 3
   },
   "file_extension": ".py",
   "mimetype": "text/x-python",
   "name": "python",
   "nbconvert_exporter": "python",
   "pygments_lexer": "ipython3",
   "version": "3.7.3"
  }
 },
 "nbformat": 4,
 "nbformat_minor": 2
}
