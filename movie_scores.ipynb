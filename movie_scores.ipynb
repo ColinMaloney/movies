{
 "cells": [
  {
   "cell_type": "code",
   "execution_count": 1,
   "metadata": {},
   "outputs": [],
   "source": [
    "import requests\n",
    "from bs4 import BeautifulSoup\n",
    "import re \n",
    "import pandas as pd \n",
    "import json\n",
    "import time\n",
    "movie_scores = 'https://www.mrqe.com/lists/incinemas'"
   ]
  },
  {
   "cell_type": "code",
   "execution_count": 2,
   "metadata": {},
   "outputs": [],
   "source": [
    "movie_html = requests.get(movie_scores)"
   ]
  },
  {
   "cell_type": "code",
   "execution_count": 4,
   "metadata": {},
   "outputs": [],
   "source": [
    "scores_set = BeautifulSoup(movie_html.text, 'html.parser')"
   ]
  },
  {
   "cell_type": "code",
   "execution_count": 13,
   "metadata": {},
   "outputs": [],
   "source": [
    "ratings = scores_set.find_all('td', 'critic_rating')"
   ]
  },
  {
   "cell_type": "code",
   "execution_count": 15,
   "metadata": {},
   "outputs": [],
   "source": [
    "ratingsdf = pd.DataFrame(ratings)"
   ]
  },
  {
   "cell_type": "code",
   "execution_count": 16,
   "metadata": {},
   "outputs": [
    {
     "data": {
      "text/html": [
       "<div>\n",
       "<style scoped>\n",
       "    .dataframe tbody tr th:only-of-type {\n",
       "        vertical-align: middle;\n",
       "    }\n",
       "\n",
       "    .dataframe tbody tr th {\n",
       "        vertical-align: top;\n",
       "    }\n",
       "\n",
       "    .dataframe thead th {\n",
       "        text-align: right;\n",
       "    }\n",
       "</style>\n",
       "<table border=\"1\" class=\"dataframe\">\n",
       "  <thead>\n",
       "    <tr style=\"text-align: right;\">\n",
       "      <th></th>\n",
       "      <th>0</th>\n",
       "      <th>1</th>\n",
       "      <th>2</th>\n",
       "      <th>3</th>\n",
       "      <th>4</th>\n",
       "    </tr>\n",
       "  </thead>\n",
       "  <tbody>\n",
       "    <tr>\n",
       "      <th>0</th>\n",
       "      <td></td>\n",
       "      <td>&lt;img alt=\"47 Meters Down: Uncaged (2019) - MRQ...</td>\n",
       "      <td></td>\n",
       "      <td>&lt;a alt=\"47 Meters Down: Uncaged (2019) Movie R...</td>\n",
       "      <td></td>\n",
       "    </tr>\n",
       "    <tr>\n",
       "      <th>1</th>\n",
       "      <td></td>\n",
       "      <td>&lt;img alt=\"Aladdin (2019) - MRQE Metric: 59\" sr...</td>\n",
       "      <td></td>\n",
       "      <td>&lt;a alt=\"Aladdin (2019) Movie Ratings\" class=\"r...</td>\n",
       "      <td></td>\n",
       "    </tr>\n",
       "    <tr>\n",
       "      <th>2</th>\n",
       "      <td></td>\n",
       "      <td>&lt;img alt=\"Angel Has Fallen (2019) - MRQE Metri...</td>\n",
       "      <td></td>\n",
       "      <td>&lt;a alt=\"Angel Has Fallen (2019) Movie Ratings\"...</td>\n",
       "      <td></td>\n",
       "    </tr>\n",
       "  </tbody>\n",
       "</table>\n",
       "</div>"
      ],
      "text/plain": [
       "   0                                                  1  2  \\\n",
       "0  \n",
       "  <img alt=\"47 Meters Down: Uncaged (2019) - MRQ...  \n",
       "   \n",
       "1  \n",
       "  <img alt=\"Aladdin (2019) - MRQE Metric: 59\" sr...  \n",
       "   \n",
       "2  \n",
       "  <img alt=\"Angel Has Fallen (2019) - MRQE Metri...  \n",
       "   \n",
       "\n",
       "                                                   3  4  \n",
       "0  <a alt=\"47 Meters Down: Uncaged (2019) Movie R...  \n",
       "  \n",
       "1  <a alt=\"Aladdin (2019) Movie Ratings\" class=\"r...  \n",
       "  \n",
       "2  <a alt=\"Angel Has Fallen (2019) Movie Ratings\"...  \n",
       "  "
      ]
     },
     "execution_count": 16,
     "metadata": {},
     "output_type": "execute_result"
    }
   ],
   "source": [
    "ratingsdf.head()"
   ]
  },
  {
   "cell_type": "code",
   "execution_count": null,
   "metadata": {},
   "outputs": [],
   "source": []
  }
 ],
 "metadata": {
  "kernelspec": {
   "display_name": "Python 3",
   "language": "python",
   "name": "python3"
  },
  "language_info": {
   "codemirror_mode": {
    "name": "ipython",
    "version": 3
   },
   "file_extension": ".py",
   "mimetype": "text/x-python",
   "name": "python",
   "nbconvert_exporter": "python",
   "pygments_lexer": "ipython3",
   "version": "3.7.3"
  }
 },
 "nbformat": 4,
 "nbformat_minor": 2
}
