{
 "cells": [
  {
   "cell_type": "code",
   "execution_count": 1,
   "metadata": {},
   "outputs": [],
   "source": [
    "import requests\n",
    "from bs4 import BeautifulSoup\n",
    "import re \n",
    "import pandas as pd \n",
    "import json\n",
    "import time\n",
    "movie_scores = 'https://www.mrqe.com/lists/incinemas'"
   ]
  },
  {
   "cell_type": "code",
   "execution_count": 2,
   "metadata": {},
   "outputs": [],
   "source": [
    "movie_html = requests.get(movie_scores)"
   ]
  },
  {
   "cell_type": "code",
   "execution_count": 4,
   "metadata": {},
   "outputs": [],
   "source": [
    "scores_set = BeautifulSoup(movie_html.text, 'html.parser')"
   ]
  },
  {
   "cell_type": "code",
   "execution_count": 13,
   "metadata": {},
   "outputs": [],
   "source": [
    "ratings = scores_set.find_all('td', 'critic_rating')"
   ]
  },
  {
   "cell_type": "code",
   "execution_count": 14,
   "metadata": {},
   "outputs": [
    {
     "data": {
      "text/plain": [
       "[<td class=\"critic_rating\">\n",
       " <img alt=\"47 Meters Down: Uncaged (2019) - MRQE Metric: 44\" src=\"http://mrqe-histograms.s3.amazonaws.com/detailed-graph-204752.jpg?score=44\" title=\"47 Meters Down: Uncaged (2019) - MRQE Metric: 44\"/>\n",
       " <a alt=\"47 Meters Down: Uncaged (2019) Movie Ratings\" class=\"rate\" href=\"/movie_reviews/47-meters-down-uncaged-m100128270#rate\" title=\"47 Meters Down: Uncaged (2019) Movie Ratings\">Rate it!</a>\n",
       " </td>, <td class=\"critic_rating\">\n",
       " <img alt=\"Aladdin (2019) - MRQE Metric: 59\" src=\"http://mrqe-histograms.s3.amazonaws.com/detailed-graph-203876.jpg?score=59\" title=\"Aladdin (2019) - MRQE Metric: 59\"/>\n",
       " <a alt=\"Aladdin (2019) Movie Ratings\" class=\"rate\" href=\"/movie_reviews/aladdin-m100127490#rate\" title=\"Aladdin (2019) Movie Ratings\">Rate it!</a>\n",
       " </td>, <td class=\"critic_rating\">\n",
       " <img alt=\"Angel Has Fallen (2019) - MRQE Metric: 53\" src=\"http://mrqe-histograms.s3.amazonaws.com/detailed-graph-204816.jpg?score=53\" title=\"Angel Has Fallen (2019) - MRQE Metric: 53\"/>\n",
       " <a alt=\"Angel Has Fallen (2019) Movie Ratings\" class=\"rate\" href=\"/movie_reviews/angel-has-fallen-m100128328#rate\" title=\"Angel Has Fallen (2019) Movie Ratings\">Rate it!</a>\n",
       " </td>]"
      ]
     },
     "execution_count": 14,
     "metadata": {},
     "output_type": "execute_result"
    }
   ],
   "source": [
    "ratings"
   ]
  },
  {
   "cell_type": "code",
   "execution_count": null,
   "metadata": {},
   "outputs": [],
   "source": []
  }
 ],
 "metadata": {
  "kernelspec": {
   "display_name": "Python 3",
   "language": "python",
   "name": "python3"
  },
  "language_info": {
   "codemirror_mode": {
    "name": "ipython",
    "version": 3
   },
   "file_extension": ".py",
   "mimetype": "text/x-python",
   "name": "python",
   "nbconvert_exporter": "python",
   "pygments_lexer": "ipython3",
   "version": "3.7.3"
  }
 },
 "nbformat": 4,
 "nbformat_minor": 2
}
