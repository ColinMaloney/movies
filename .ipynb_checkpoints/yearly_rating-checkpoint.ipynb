{
 "cells": [
  {
   "cell_type": "code",
   "execution_count": 1,
   "metadata": {},
   "outputs": [],
   "source": [
    "import requests\n",
    "from bs4 import BeautifulSoup\n",
    "import re \n",
    "import pandas as pd \n",
    "import json\n",
    "import time\n",
    "import ast"
   ]
  },
  {
   "cell_type": "code",
   "execution_count": 17,
   "metadata": {},
   "outputs": [],
   "source": [
    "def get_data_frames():\n",
    "    '''\n",
    "    This scrapes the site www.the-numbers.com for the years of 2009 until 2019\n",
    "    '''\n",
    "    headers = {'User-Agent': 'Mozilla/5.0 (Macintosh; Intel Mac OS X 10_10_1) AppleWebKit/537.36 (KHTML, like Gecko) Chrome/39.0.2171.95 Safari/537.36'}\n",
    "    years = range(2009,2020)\n",
    "    dfs = []\n",
    "    for year in years:\n",
    "        url = f'https://www.the-numbers.com/box-office-records/worldwide/all-movies/cumulative/released-in-{year}'\n",
    "        time.sleep(2)\n",
    "        html = requests.get(url, headers=headers) # avoid the 403\n",
    "        yearly_df = pd.read_html(html.text)[1]\n",
    "        yearly_df.dropna(inplace=True)\n",
    "        yearly_df['year'] = year\n",
    "        dfs.append(yearly_df)\n",
    "    return dfs\n",
    "\n",
    "frames = get_data_frames()\n",
    "overall_df = pd.concat(frames, axis=0)"
   ]
  },
  {
   "cell_type": "code",
   "execution_count": 18,
   "metadata": {
    "scrolled": true
   },
   "outputs": [],
   "source": [
    "def clean_movie_names(dataframe):\n",
    "    '''\n",
    "    The movie names were coming back with some no ascii characters so this function cleans up \n",
    "    those characters and adds an apostrophe where those characters were located\n",
    "    '''\n",
    "    overall_df['clean_movie'] = overall_df.Movie.map(lambda x: x.replace(\"â\", \"'\"))\n",
    "    return overall_df"
   ]
  },
  {
   "cell_type": "code",
   "execution_count": null,
   "metadata": {},
   "outputs": [],
   "source": [
    "overall_df = clean_movie_names(overall_df)"
   ]
  },
  {
   "cell_type": "code",
   "execution_count": null,
   "metadata": {},
   "outputs": [],
   "source": []
  },
  {
   "cell_type": "code",
   "execution_count": null,
   "metadata": {},
   "outputs": [],
   "source": [
    "def get_ratings(dataframe):\n",
    "    '''\n",
    "    This calls an api from omdbapi.com and returns a dictionary of values for the specified movies\n",
    "    that were in the yearly gross profits from get_data_frames\n",
    "    '''\n",
    "    movie_rating_list = []\n",
    "    for api_req,year in zip(dataframe.clean_movie, dataframe.year): \n",
    "        movie_name = f\"http://www.omdbapi.com/?t={api_req}&y={year}&apikey=b213361e\"\n",
    "        try:\n",
    "            movie_ratings = requests.get(movie_name).json()\n",
    "            year_2016_list.append(movie_ratings)\n",
    "        except ValueError:\n",
    "            print('Name did not work')\n",
    "    return pd.DataFrame(movie_rating_list)\n"
   ]
  },
  {
   "cell_type": "code",
   "execution_count": null,
   "metadata": {},
   "outputs": [],
   "source": [
    "ratings_df = get_ratings(overall_df)"
   ]
  },
  {
   "cell_type": "code",
   "execution_count": null,
   "metadata": {},
   "outputs": [],
   "source": [
    "def get_tomato_score(row):\n",
    "    try:\n",
    "        return [x.get('Value') for x in row if x.get('Source') == 'Rotten Tomatoes'][0]\n",
    "    except:\n",
    "        return (None)"
   ]
  },
  {
   "cell_type": "code",
   "execution_count": null,
   "metadata": {},
   "outputs": [],
   "source": [
    "def imdb_clean(row):\n",
    "    try:\n",
    "        return float(row) * 10\n",
    "    except:\n",
    "        return(None)"
   ]
  },
  {
   "cell_type": "code",
   "execution_count": null,
   "metadata": {},
   "outputs": [],
   "source": [
    "def get_meta_score(row):\n",
    "    try:\n",
    "        return int(row)\n",
    "    except:\n",
    "        return(None)"
   ]
  },
  {
   "cell_type": "code",
   "execution_count": null,
   "metadata": {},
   "outputs": [],
   "source": [
    "ratings_df['Rotten_Score'] = ratings_df.Ratings.map(get_tomato_score)\n",
    "ratings_df['Metacritic_Score'] = ratings_df.Metascore.map(get_meta_score)\n",
    "ratings_df['Imdb_Score'] = ratings_df.imdbRating.map(imdb_clean)"
   ]
  },
  {
   "cell_type": "code",
   "execution_count": null,
   "metadata": {},
   "outputs": [],
   "source": [
    "joining_df = ratings_df[['Title','Rotten_Score','Metacritic_Score','Imdb_Score']].set_index('Title')"
   ]
  },
  {
   "cell_type": "code",
   "execution_count": null,
   "metadata": {},
   "outputs": [],
   "source": [
    "overall_df = overall_df_df[['Worldwide Box Office','Domestic Box Office','International Box Office',\n",
    "                               'DomesticShare','year','clean_movie']].set_index('clean_movie')"
   ]
  },
  {
   "cell_type": "code",
   "execution_count": null,
   "metadata": {},
   "outputs": [],
   "source": [
    "overall_df.join(joining_df,on='clean_movie',how='inner')"
   ]
  },
  {
   "cell_type": "code",
   "execution_count": null,
   "metadata": {},
   "outputs": [],
   "source": [
    "final_df = overall_df.dropna()"
   ]
  },
  {
   "cell_type": "code",
   "execution_count": null,
   "metadata": {},
   "outputs": [],
   "source": []
  },
  {
   "cell_type": "code",
   "execution_count": null,
   "metadata": {},
   "outputs": [],
   "source": []
  },
  {
   "cell_type": "code",
   "execution_count": null,
   "metadata": {},
   "outputs": [],
   "source": []
  }
 ],
 "metadata": {
  "kernelspec": {
   "display_name": "Python 3",
   "language": "python",
   "name": "python3"
  },
  "language_info": {
   "codemirror_mode": {
    "name": "ipython",
    "version": 3
   },
   "file_extension": ".py",
   "mimetype": "text/x-python",
   "name": "python",
   "nbconvert_exporter": "python",
   "pygments_lexer": "ipython3",
   "version": "3.7.3"
  }
 },
 "nbformat": 4,
 "nbformat_minor": 2
}
