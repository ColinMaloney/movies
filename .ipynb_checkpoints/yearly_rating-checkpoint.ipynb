{
 "cells": [
  {
   "cell_type": "code",
   "execution_count": 2,
   "metadata": {},
   "outputs": [],
   "source": [
    "import requests\n",
    "from bs4 import BeautifulSoup\n",
    "import re \n",
    "import pandas as pd \n",
    "import json\n",
    "import time"
   ]
  },
  {
   "cell_type": "code",
   "execution_count": 2,
   "metadata": {},
   "outputs": [],
   "source": [
    "def get_data_frames():\n",
    "    '''\n",
    "    This scrapes the site www.the-numbers.com for the years of 2009 until 2019\n",
    "    '''\n",
    "    headers = {'User-Agent': 'Mozilla/5.0 (Macintosh; Intel Mac OS X 10_10_1) AppleWebKit/537.36 (KHTML, like Gecko) Chrome/39.0.2171.95 Safari/537.36'}\n",
    "    years = range(2009,2020)\n",
    "    dfs = []\n",
    "    for year in years:\n",
    "        url = f'https://www.the-numbers.com/box-office-records/worldwide/all-movies/cumulative/released-in-{year}'\n",
    "        time.sleep(2)\n",
    "        html = requests.get(url, headers=headers) # avoid the 403\n",
    "        yearly_df = pd.read_html(html.text)[1]\n",
    "        yearly_df.dropna(inplace=True)\n",
    "        yearly_df['year'] = year\n",
    "        dfs.append(yearly_df)\n",
    "    return dfs\n",
    "\n",
    "frames = get_data_frames()\n",
    "overall_df = pd.concat(frames, axis=0)"
   ]
  },
  {
   "cell_type": "code",
   "execution_count": 4,
   "metadata": {
    "scrolled": true
   },
   "outputs": [],
   "source": [
    "def clean_movie_names(dataframe):\n",
    "    '''\n",
    "    The movie names were coming back with some no ascii characters so this function cleans up \n",
    "    those characters and adds an apostrophe where those characters were located\n",
    "    '''\n",
    "    overall_df['clean_movie'] = overall_df.Movie.map(lambda x: x.replace(\"â\", \"'\"))\n",
    "    return overall_df"
   ]
  },
  {
   "cell_type": "code",
   "execution_count": 5,
   "metadata": {},
   "outputs": [],
   "source": [
    "overall_df = clean_movie_names(overall_df)"
   ]
  },
  {
   "cell_type": "code",
   "execution_count": 257,
   "metadata": {},
   "outputs": [],
   "source": [
    "overall_df.to_csv('Overall_DataFrame')"
   ]
  },
  {
   "cell_type": "code",
   "execution_count": 10,
   "metadata": {},
   "outputs": [],
   "source": [
    "def get_ratings(dataframe):\n",
    "    '''\n",
    "    This calls an api from omdbapi.com and returns a dictionary of values for the specified movies\n",
    "    that were in the yearly gross profits from get_data_frames\n",
    "    '''\n",
    "    movie_rating_list = []\n",
    "    for api_req,year in zip(dataframe.clean_movie, dataframe.year): \n",
    "        movie_name = f\"http://www.omdbapi.com/?t={api_req}&y={year}&apikey=b213361e\"\n",
    "        try:\n",
    "            movie_ratings = requests.get(movie_name).json()\n",
    "            movie_rating_list.append(movie_ratings)\n",
    "        except ValueError:\n",
    "            print('Name did not work')\n",
    "    return pd.DataFrame(movie_rating_list)\n"
   ]
  },
  {
   "cell_type": "code",
   "execution_count": 11,
   "metadata": {},
   "outputs": [
    {
     "name": "stdout",
     "output_type": "stream",
     "text": [
      "Name did not work\n"
     ]
    }
   ],
   "source": [
    "ratings_df = get_ratings(overall_df)"
   ]
  },
  {
   "cell_type": "code",
   "execution_count": 258,
   "metadata": {},
   "outputs": [],
   "source": [
    "ratings_df.to_csv('Ratings_DataFrame')"
   ]
  },
  {
   "cell_type": "code",
   "execution_count": 20,
   "metadata": {},
   "outputs": [],
   "source": [
    "def get_tomato_score(row):\n",
    "    try:\n",
    "        tomato_val = [x.get('Value') for x in row if x.get('Source') == 'Rotten Tomatoes'][0]\n",
    "        tomato_val = tomato_val.replace('%','')\n",
    "        return int(tomato_val)\n",
    "    except:\n",
    "        return (None)"
   ]
  },
  {
   "cell_type": "code",
   "execution_count": 15,
   "metadata": {},
   "outputs": [],
   "source": [
    "def imdb_clean(row):\n",
    "    try:\n",
    "        return float(row) * 10\n",
    "    except:\n",
    "        return(None)"
   ]
  },
  {
   "cell_type": "code",
   "execution_count": 16,
   "metadata": {},
   "outputs": [],
   "source": [
    "def get_meta_score(row):\n",
    "    try:\n",
    "        return int(row)\n",
    "    except:\n",
    "        return(None)"
   ]
  },
  {
   "cell_type": "code",
   "execution_count": 21,
   "metadata": {},
   "outputs": [],
   "source": [
    "ratings_df['Rotten_Score'] = ratings_df.Ratings.map(get_tomato_score)\n",
    "ratings_df['Metacritic_Score'] = ratings_df.Metascore.map(get_meta_score)\n",
    "ratings_df['Imdb_Score'] = ratings_df.imdbRating.map(imdb_clean)"
   ]
  },
  {
   "cell_type": "code",
   "execution_count": 78,
   "metadata": {},
   "outputs": [],
   "source": [
    "joining_df = ratings_df[['Title','Rotten_Score','Metacritic_Score','Imdb_Score']].set_index('Title')"
   ]
  },
  {
   "cell_type": "code",
   "execution_count": 80,
   "metadata": {},
   "outputs": [],
   "source": [
    "joined_df = overall_df[['Worldwide Box Office','Domestic Box Office','International Box Office',\n",
    "                               'DomesticShare','year','clean_movie']].set_index('clean_movie')"
   ]
  },
  {
   "cell_type": "code",
   "execution_count": 81,
   "metadata": {},
   "outputs": [],
   "source": [
    "final_df = joined_df.join(joining_df,on='clean_movie',how='inner')"
   ]
  },
  {
   "cell_type": "code",
   "execution_count": 82,
   "metadata": {},
   "outputs": [],
   "source": [
    "final_df = final_df.dropna()"
   ]
  },
  {
   "cell_type": "code",
   "execution_count": 85,
   "metadata": {},
   "outputs": [],
   "source": [
    "def clean_money(value):\n",
    "    return (int(value.replace('$','').replace(',','')))\n"
   ]
  },
  {
   "cell_type": "code",
   "execution_count": 87,
   "metadata": {},
   "outputs": [],
   "source": [
    "final_df['Worldwide Box Office'] = final_df['Worldwide Box Office'].map(clean_money)"
   ]
  },
  {
   "cell_type": "code",
   "execution_count": 89,
   "metadata": {},
   "outputs": [],
   "source": [
    "final_df['Domestic Box Office'] = final_df['Domestic Box Office'].map(clean_money)"
   ]
  },
  {
   "cell_type": "code",
   "execution_count": 90,
   "metadata": {},
   "outputs": [],
   "source": [
    "final_df['International Box Office'] = final_df['International Box Office'].map(clean_money)"
   ]
  },
  {
   "cell_type": "code",
   "execution_count": 95,
   "metadata": {},
   "outputs": [],
   "source": [
    "final_df['DomesticShare'] = final_df['DomesticShare'].map(lambda x : float(x.replace('%','')))"
   ]
  },
  {
   "cell_type": "code",
   "execution_count": 108,
   "metadata": {},
   "outputs": [
    {
     "data": {
      "text/html": [
       "<div>\n",
       "<style scoped>\n",
       "    .dataframe tbody tr th:only-of-type {\n",
       "        vertical-align: middle;\n",
       "    }\n",
       "\n",
       "    .dataframe tbody tr th {\n",
       "        vertical-align: top;\n",
       "    }\n",
       "\n",
       "    .dataframe thead th {\n",
       "        text-align: right;\n",
       "    }\n",
       "</style>\n",
       "<table border=\"1\" class=\"dataframe\">\n",
       "  <thead>\n",
       "    <tr style=\"text-align: right;\">\n",
       "      <th></th>\n",
       "      <th>Worldwide Box Office</th>\n",
       "      <th>Domestic Box Office</th>\n",
       "      <th>International Box Office</th>\n",
       "      <th>DomesticShare</th>\n",
       "      <th>year</th>\n",
       "      <th>Rotten_Score</th>\n",
       "      <th>Metacritic_Score</th>\n",
       "      <th>Imdb_Score</th>\n",
       "    </tr>\n",
       "  </thead>\n",
       "  <tbody>\n",
       "    <tr>\n",
       "      <th>Worldwide Box Office</th>\n",
       "      <td>1.000000</td>\n",
       "      <td>0.928512</td>\n",
       "      <td>0.982514</td>\n",
       "      <td>-0.295672</td>\n",
       "      <td>0.097691</td>\n",
       "      <td>0.265658</td>\n",
       "      <td>0.259872</td>\n",
       "      <td>0.317032</td>\n",
       "    </tr>\n",
       "    <tr>\n",
       "      <th>Domestic Box Office</th>\n",
       "      <td>0.928512</td>\n",
       "      <td>1.000000</td>\n",
       "      <td>0.843144</td>\n",
       "      <td>-0.040738</td>\n",
       "      <td>0.063359</td>\n",
       "      <td>0.333786</td>\n",
       "      <td>0.323734</td>\n",
       "      <td>0.353084</td>\n",
       "    </tr>\n",
       "    <tr>\n",
       "      <th>International Box Office</th>\n",
       "      <td>0.982514</td>\n",
       "      <td>0.843144</td>\n",
       "      <td>1.000000</td>\n",
       "      <td>-0.407738</td>\n",
       "      <td>0.109697</td>\n",
       "      <td>0.217327</td>\n",
       "      <td>0.213989</td>\n",
       "      <td>0.282046</td>\n",
       "    </tr>\n",
       "    <tr>\n",
       "      <th>DomesticShare</th>\n",
       "      <td>-0.295672</td>\n",
       "      <td>-0.040738</td>\n",
       "      <td>-0.407738</td>\n",
       "      <td>1.000000</td>\n",
       "      <td>-0.078203</td>\n",
       "      <td>0.079517</td>\n",
       "      <td>0.056938</td>\n",
       "      <td>-0.015189</td>\n",
       "    </tr>\n",
       "    <tr>\n",
       "      <th>year</th>\n",
       "      <td>0.097691</td>\n",
       "      <td>0.063359</td>\n",
       "      <td>0.109697</td>\n",
       "      <td>-0.078203</td>\n",
       "      <td>1.000000</td>\n",
       "      <td>0.110874</td>\n",
       "      <td>0.068772</td>\n",
       "      <td>0.061171</td>\n",
       "    </tr>\n",
       "    <tr>\n",
       "      <th>Rotten_Score</th>\n",
       "      <td>0.265658</td>\n",
       "      <td>0.333786</td>\n",
       "      <td>0.217327</td>\n",
       "      <td>0.079517</td>\n",
       "      <td>0.110874</td>\n",
       "      <td>1.000000</td>\n",
       "      <td>0.937325</td>\n",
       "      <td>0.772234</td>\n",
       "    </tr>\n",
       "    <tr>\n",
       "      <th>Metacritic_Score</th>\n",
       "      <td>0.259872</td>\n",
       "      <td>0.323734</td>\n",
       "      <td>0.213989</td>\n",
       "      <td>0.056938</td>\n",
       "      <td>0.068772</td>\n",
       "      <td>0.937325</td>\n",
       "      <td>1.000000</td>\n",
       "      <td>0.761331</td>\n",
       "    </tr>\n",
       "    <tr>\n",
       "      <th>Imdb_Score</th>\n",
       "      <td>0.317032</td>\n",
       "      <td>0.353084</td>\n",
       "      <td>0.282046</td>\n",
       "      <td>-0.015189</td>\n",
       "      <td>0.061171</td>\n",
       "      <td>0.772234</td>\n",
       "      <td>0.761331</td>\n",
       "      <td>1.000000</td>\n",
       "    </tr>\n",
       "  </tbody>\n",
       "</table>\n",
       "</div>"
      ],
      "text/plain": [
       "                          Worldwide Box Office  Domestic Box Office  \\\n",
       "Worldwide Box Office                  1.000000             0.928512   \n",
       "Domestic Box Office                   0.928512             1.000000   \n",
       "International Box Office              0.982514             0.843144   \n",
       "DomesticShare                        -0.295672            -0.040738   \n",
       "year                                  0.097691             0.063359   \n",
       "Rotten_Score                          0.265658             0.333786   \n",
       "Metacritic_Score                      0.259872             0.323734   \n",
       "Imdb_Score                            0.317032             0.353084   \n",
       "\n",
       "                          International Box Office  DomesticShare      year  \\\n",
       "Worldwide Box Office                      0.982514      -0.295672  0.097691   \n",
       "Domestic Box Office                       0.843144      -0.040738  0.063359   \n",
       "International Box Office                  1.000000      -0.407738  0.109697   \n",
       "DomesticShare                            -0.407738       1.000000 -0.078203   \n",
       "year                                      0.109697      -0.078203  1.000000   \n",
       "Rotten_Score                              0.217327       0.079517  0.110874   \n",
       "Metacritic_Score                          0.213989       0.056938  0.068772   \n",
       "Imdb_Score                                0.282046      -0.015189  0.061171   \n",
       "\n",
       "                          Rotten_Score  Metacritic_Score  Imdb_Score  \n",
       "Worldwide Box Office          0.265658          0.259872    0.317032  \n",
       "Domestic Box Office           0.333786          0.323734    0.353084  \n",
       "International Box Office      0.217327          0.213989    0.282046  \n",
       "DomesticShare                 0.079517          0.056938   -0.015189  \n",
       "year                          0.110874          0.068772    0.061171  \n",
       "Rotten_Score                  1.000000          0.937325    0.772234  \n",
       "Metacritic_Score              0.937325          1.000000    0.761331  \n",
       "Imdb_Score                    0.772234          0.761331    1.000000  "
      ]
     },
     "execution_count": 108,
     "metadata": {},
     "output_type": "execute_result"
    }
   ],
   "source": [
    "final_df.corr()"
   ]
  },
  {
   "cell_type": "code",
   "execution_count": 158,
   "metadata": {},
   "outputs": [
    {
     "data": {
      "text/plain": [
       "<matplotlib.axes._subplots.AxesSubplot at 0x7f5c5cdee470>"
      ]
     },
     "execution_count": 158,
     "metadata": {},
     "output_type": "execute_result"
    },
    {
     "data": {
      "image/png": "[encoded data removed]",
      "text/plain": [
       "<Figure size 432x288 with 2 Axes>"
      ]
     },
     "metadata": {},
     "output_type": "display_data"
    }
   ],
   "source": [
    "sns.heatmap(final_df.corr(),cmap='coolwarm',annot=True)"
   ]
  },
  {
   "cell_type": "code",
   "execution_count": 24,
   "metadata": {},
   "outputs": [],
   "source": [
    "years = {x : final_df[final_df['year']==x] for x in range(2009, 2020)}"
   ]
  },
  {
   "cell_type": "code",
   "execution_count": 57,
   "metadata": {},
   "outputs": [],
   "source": [
    "from collections import OrderedDict\n",
    "def correlation_per_years(dataframe):\n",
    "    corr_year_dict = OrderedDict()\n",
    "    for year in range(2009,2020):\n",
    "        key = 'corr' + str(year)\n",
    "        corr_year_dict[key] = dataframe.query('year=='+str(year)).corr()\n",
    "    return corr_year_dict"
   ]
  },
  {
   "cell_type": "code",
   "execution_count": 58,
   "metadata": {},
   "outputs": [],
   "source": [
    "corr_dict = correlation_per_years(final_df)"
   ]
  },
  {
   "cell_type": "code",
   "execution_count": 59,
   "metadata": {},
   "outputs": [],
   "source": [
    "def get_correlations_per_year(critic_source):\n",
    "    corr_list=[]\n",
    "    for year in range(2009,2020):\n",
    "        corr_list.append(corr_dict['corr'+str(year)][critic_source][0])\n",
    "    return corr_list"
   ]
  },
  {
   "cell_type": "code",
   "execution_count": 60,
   "metadata": {},
   "outputs": [],
   "source": [
    "Imdb_corr_scores = get_correlations_per_year('Imdb_Score')"
   ]
  },
  {
   "cell_type": "code",
   "execution_count": 62,
   "metadata": {},
   "outputs": [],
   "source": [
    "Rotten_corr_scores = get_correlations_per_year('Rotten_Score')"
   ]
  },
  {
   "cell_type": "code",
   "execution_count": 64,
   "metadata": {},
   "outputs": [],
   "source": [
    "Meta_corr_scores = get_correlations_per_year('Metacritic_Score')"
   ]
  },
  {
   "cell_type": "code",
   "execution_count": 200,
   "metadata": {},
   "outputs": [
    {
     "data": {
      "text/plain": [
       "Text(0, 0.5, 'Correlation Value')"
      ]
     },
     "execution_count": 200,
     "metadata": {},
     "output_type": "execute_result"
    },
    {
     "data": {
      "image/png": "[encoded data removed]",
      "text/plain": [
       "<Figure size 864x504 with 1 Axes>"
      ]
     },
     "metadata": {
      "needs_background": "light"
     },
     "output_type": "display_data"
    }
   ],
   "source": [
    "import matplotlib.pyplot as plt\n",
    "%matplotlib inline\n",
    "fig, ax = plt.subplots(figsize = (12,7))\n",
    "ax.plot(Imdb_corr_scores,c='green',label='Imdb')\n",
    "ax.plot(Rotten_corr_scores,c='red',label='Rotten')\n",
    "ax.plot(Meta_corr_scores,c='blue',label='Metacritic')\n",
    "ax.set_xticklabels(range(2007,2020,2), fontsize=12)\n",
    "ax.legend(loc='best')\n",
    "ax.set_title('Correlation per Year')\n",
    "ax.set_xlabel('Years')\n",
    "ax.set_ylabel(\"Correlation Value\")"
   ]
  },
  {
   "cell_type": "code",
   "execution_count": null,
   "metadata": {},
   "outputs": [],
   "source": [
    "fig.savefig(\"year_over_year_corr.png\")"
   ]
  },
  {
   "cell_type": "code",
   "execution_count": 3,
   "metadata": {},
   "outputs": [],
   "source": [
    "final_df = pd.read_csv('final_csv')"
   ]
  },
  {
   "cell_type": "code",
   "execution_count": 214,
   "metadata": {},
   "outputs": [
    {
     "data": {
      "text/html": [
       "<div>\n",
       "<style scoped>\n",
       "    .dataframe tbody tr th:only-of-type {\n",
       "        vertical-align: middle;\n",
       "    }\n",
       "\n",
       "    .dataframe tbody tr th {\n",
       "        vertical-align: top;\n",
       "    }\n",
       "\n",
       "    .dataframe thead th {\n",
       "        text-align: right;\n",
       "    }\n",
       "</style>\n",
       "<table border=\"1\" class=\"dataframe\">\n",
       "  <thead>\n",
       "    <tr style=\"text-align: right;\">\n",
       "      <th></th>\n",
       "      <th>clean_movie</th>\n",
       "      <th>Worldwide Box Office</th>\n",
       "      <th>Domestic Box Office</th>\n",
       "      <th>International Box Office</th>\n",
       "      <th>DomesticShare</th>\n",
       "      <th>year</th>\n",
       "      <th>Rotten_Score</th>\n",
       "      <th>Metacritic_Score</th>\n",
       "      <th>Imdb_Score</th>\n",
       "    </tr>\n",
       "  </thead>\n",
       "  <tbody>\n",
       "    <tr>\n",
       "      <th>750</th>\n",
       "      <td>Avengers: Endgame</td>\n",
       "      <td>2795409509</td>\n",
       "      <td>858367305</td>\n",
       "      <td>1937042204</td>\n",
       "      <td>30.71</td>\n",
       "      <td>2019</td>\n",
       "      <td>94.0</td>\n",
       "      <td>78.0</td>\n",
       "      <td>86.0</td>\n",
       "    </tr>\n",
       "    <tr>\n",
       "      <th>0</th>\n",
       "      <td>Avatar</td>\n",
       "      <td>2789705275</td>\n",
       "      <td>760507625</td>\n",
       "      <td>2029197650</td>\n",
       "      <td>27.26</td>\n",
       "      <td>2009</td>\n",
       "      <td>82.0</td>\n",
       "      <td>83.0</td>\n",
       "      <td>78.0</td>\n",
       "    </tr>\n",
       "    <tr>\n",
       "      <th>689</th>\n",
       "      <td>Avengers: Infinity War</td>\n",
       "      <td>2048134200</td>\n",
       "      <td>678815482</td>\n",
       "      <td>1369318718</td>\n",
       "      <td>33.14</td>\n",
       "      <td>2018</td>\n",
       "      <td>85.0</td>\n",
       "      <td>68.0</td>\n",
       "      <td>85.0</td>\n",
       "    </tr>\n",
       "    <tr>\n",
       "      <th>475</th>\n",
       "      <td>Jurassic World</td>\n",
       "      <td>1648854864</td>\n",
       "      <td>652270625</td>\n",
       "      <td>996584239</td>\n",
       "      <td>39.56</td>\n",
       "      <td>2015</td>\n",
       "      <td>72.0</td>\n",
       "      <td>59.0</td>\n",
       "      <td>70.0</td>\n",
       "    </tr>\n",
       "    <tr>\n",
       "      <th>751</th>\n",
       "      <td>The Lion King</td>\n",
       "      <td>1599378019</td>\n",
       "      <td>529478019</td>\n",
       "      <td>1069900000</td>\n",
       "      <td>33.11</td>\n",
       "      <td>2019</td>\n",
       "      <td>53.0</td>\n",
       "      <td>55.0</td>\n",
       "      <td>71.0</td>\n",
       "    </tr>\n",
       "    <tr>\n",
       "      <th>476</th>\n",
       "      <td>Furious 7</td>\n",
       "      <td>1518722794</td>\n",
       "      <td>353007020</td>\n",
       "      <td>1165715774</td>\n",
       "      <td>23.24</td>\n",
       "      <td>2015</td>\n",
       "      <td>81.0</td>\n",
       "      <td>67.0</td>\n",
       "      <td>72.0</td>\n",
       "    </tr>\n",
       "    <tr>\n",
       "      <th>248</th>\n",
       "      <td>The Avengers</td>\n",
       "      <td>1517935897</td>\n",
       "      <td>623279547</td>\n",
       "      <td>894656350</td>\n",
       "      <td>41.06</td>\n",
       "      <td>2012</td>\n",
       "      <td>92.0</td>\n",
       "      <td>69.0</td>\n",
       "      <td>80.0</td>\n",
       "    </tr>\n",
       "    <tr>\n",
       "      <th>477</th>\n",
       "      <td>Avengers: Age of Ultron</td>\n",
       "      <td>1403013963</td>\n",
       "      <td>459005868</td>\n",
       "      <td>944008095</td>\n",
       "      <td>32.72</td>\n",
       "      <td>2015</td>\n",
       "      <td>75.0</td>\n",
       "      <td>66.0</td>\n",
       "      <td>73.0</td>\n",
       "    </tr>\n",
       "    <tr>\n",
       "      <th>690</th>\n",
       "      <td>Black Panther</td>\n",
       "      <td>1348258224</td>\n",
       "      <td>700059566</td>\n",
       "      <td>648198658</td>\n",
       "      <td>51.92</td>\n",
       "      <td>2018</td>\n",
       "      <td>96.0</td>\n",
       "      <td>88.0</td>\n",
       "      <td>73.0</td>\n",
       "    </tr>\n",
       "    <tr>\n",
       "      <th>691</th>\n",
       "      <td>Jurassic World: Fallen Kingdom</td>\n",
       "      <td>1305772799</td>\n",
       "      <td>417719760</td>\n",
       "      <td>888053039</td>\n",
       "      <td>31.99</td>\n",
       "      <td>2018</td>\n",
       "      <td>48.0</td>\n",
       "      <td>51.0</td>\n",
       "      <td>62.0</td>\n",
       "    </tr>\n",
       "    <tr>\n",
       "      <th>321</th>\n",
       "      <td>Frozen</td>\n",
       "      <td>1272469910</td>\n",
       "      <td>400738009</td>\n",
       "      <td>871731901</td>\n",
       "      <td>31.49</td>\n",
       "      <td>2013</td>\n",
       "      <td>90.0</td>\n",
       "      <td>74.0</td>\n",
       "      <td>75.0</td>\n",
       "    </tr>\n",
       "    <tr>\n",
       "      <th>619</th>\n",
       "      <td>Beauty and the Beast</td>\n",
       "      <td>1259199706</td>\n",
       "      <td>504014165</td>\n",
       "      <td>755185541</td>\n",
       "      <td>40.03</td>\n",
       "      <td>2017</td>\n",
       "      <td>71.0</td>\n",
       "      <td>65.0</td>\n",
       "      <td>72.0</td>\n",
       "    </tr>\n",
       "    <tr>\n",
       "      <th>692</th>\n",
       "      <td>Incredibles 2</td>\n",
       "      <td>1242507764</td>\n",
       "      <td>608581744</td>\n",
       "      <td>633926020</td>\n",
       "      <td>48.98</td>\n",
       "      <td>2018</td>\n",
       "      <td>94.0</td>\n",
       "      <td>80.0</td>\n",
       "      <td>77.0</td>\n",
       "    </tr>\n",
       "    <tr>\n",
       "      <th>620</th>\n",
       "      <td>The Fate of the Furious</td>\n",
       "      <td>1234846267</td>\n",
       "      <td>225764765</td>\n",
       "      <td>1009081502</td>\n",
       "      <td>18.28</td>\n",
       "      <td>2017</td>\n",
       "      <td>67.0</td>\n",
       "      <td>56.0</td>\n",
       "      <td>67.0</td>\n",
       "    </tr>\n",
       "  </tbody>\n",
       "</table>\n",
       "</div>"
      ],
      "text/plain": [
       "                        clean_movie  Worldwide Box Office  \\\n",
       "750               Avengers: Endgame            2795409509   \n",
       "0                            Avatar            2789705275   \n",
       "689          Avengers: Infinity War            2048134200   \n",
       "475                  Jurassic World            1648854864   \n",
       "751                   The Lion King            1599378019   \n",
       "476                       Furious 7            1518722794   \n",
       "248                    The Avengers            1517935897   \n",
       "477         Avengers: Age of Ultron            1403013963   \n",
       "690                   Black Panther            1348258224   \n",
       "691  Jurassic World: Fallen Kingdom            1305772799   \n",
       "321                          Frozen            1272469910   \n",
       "619            Beauty and the Beast            1259199706   \n",
       "692                   Incredibles 2            1242507764   \n",
       "620         The Fate of the Furious            1234846267   \n",
       "\n",
       "     Domestic Box Office  International Box Office  DomesticShare  year  \\\n",
       "750            858367305                1937042204          30.71  2019   \n",
       "0              760507625                2029197650          27.26  2009   \n",
       "689            678815482                1369318718          33.14  2018   \n",
       "475            652270625                 996584239          39.56  2015   \n",
       "751            529478019                1069900000          33.11  2019   \n",
       "476            353007020                1165715774          23.24  2015   \n",
       "248            623279547                 894656350          41.06  2012   \n",
       "477            459005868                 944008095          32.72  2015   \n",
       "690            700059566                 648198658          51.92  2018   \n",
       "691            417719760                 888053039          31.99  2018   \n",
       "321            400738009                 871731901          31.49  2013   \n",
       "619            504014165                 755185541          40.03  2017   \n",
       "692            608581744                 633926020          48.98  2018   \n",
       "620            225764765                1009081502          18.28  2017   \n",
       "\n",
       "     Rotten_Score  Metacritic_Score  Imdb_Score  \n",
       "750          94.0              78.0        86.0  \n",
       "0            82.0              83.0        78.0  \n",
       "689          85.0              68.0        85.0  \n",
       "475          72.0              59.0        70.0  \n",
       "751          53.0              55.0        71.0  \n",
       "476          81.0              67.0        72.0  \n",
       "248          92.0              69.0        80.0  \n",
       "477          75.0              66.0        73.0  \n",
       "690          96.0              88.0        73.0  \n",
       "691          48.0              51.0        62.0  \n",
       "321          90.0              74.0        75.0  \n",
       "619          71.0              65.0        72.0  \n",
       "692          94.0              80.0        77.0  \n",
       "620          67.0              56.0        67.0  "
      ]
     },
     "execution_count": 214,
     "metadata": {},
     "output_type": "execute_result"
    }
   ],
   "source": [
    "final_df.sort_values('Worldwide Box Office',ascending=False).head(14)"
   ]
  },
  {
   "cell_type": "code",
   "execution_count": 16,
   "metadata": {},
   "outputs": [
    {
     "data": {
      "text/html": [
       "<div>\n",
       "<style scoped>\n",
       "    .dataframe tbody tr th:only-of-type {\n",
       "        vertical-align: middle;\n",
       "    }\n",
       "\n",
       "    .dataframe tbody tr th {\n",
       "        vertical-align: top;\n",
       "    }\n",
       "\n",
       "    .dataframe thead th {\n",
       "        text-align: right;\n",
       "    }\n",
       "</style>\n",
       "<table border=\"1\" class=\"dataframe\">\n",
       "  <thead>\n",
       "    <tr style=\"text-align: right;\">\n",
       "      <th></th>\n",
       "      <th>clean_movie</th>\n",
       "      <th>Worldwide Box Office</th>\n",
       "      <th>Domestic Box Office</th>\n",
       "      <th>International Box Office</th>\n",
       "      <th>DomesticShare</th>\n",
       "      <th>year</th>\n",
       "      <th>Rotten_Score</th>\n",
       "      <th>Metacritic_Score</th>\n",
       "      <th>Imdb_Score</th>\n",
       "    </tr>\n",
       "  </thead>\n",
       "  <tbody>\n",
       "    <tr>\n",
       "      <th>77</th>\n",
       "      <td>Inception</td>\n",
       "      <td>835524642</td>\n",
       "      <td>292576195</td>\n",
       "      <td>542948447</td>\n",
       "      <td>35.02</td>\n",
       "      <td>2010</td>\n",
       "      <td>87.0</td>\n",
       "      <td>74.0</td>\n",
       "      <td>88.0</td>\n",
       "    </tr>\n",
       "    <tr>\n",
       "      <th>406</th>\n",
       "      <td>Interstellar</td>\n",
       "      <td>665299250</td>\n",
       "      <td>188017894</td>\n",
       "      <td>477281356</td>\n",
       "      <td>28.26</td>\n",
       "      <td>2014</td>\n",
       "      <td>72.0</td>\n",
       "      <td>74.0</td>\n",
       "      <td>86.0</td>\n",
       "    </tr>\n",
       "    <tr>\n",
       "      <th>750</th>\n",
       "      <td>Avengers: Endgame</td>\n",
       "      <td>2795409509</td>\n",
       "      <td>858367305</td>\n",
       "      <td>1937042204</td>\n",
       "      <td>30.71</td>\n",
       "      <td>2019</td>\n",
       "      <td>94.0</td>\n",
       "      <td>78.0</td>\n",
       "      <td>86.0</td>\n",
       "    </tr>\n",
       "    <tr>\n",
       "      <th>689</th>\n",
       "      <td>Avengers: Infinity War</td>\n",
       "      <td>2048134200</td>\n",
       "      <td>678815482</td>\n",
       "      <td>1369318718</td>\n",
       "      <td>33.14</td>\n",
       "      <td>2018</td>\n",
       "      <td>85.0</td>\n",
       "      <td>68.0</td>\n",
       "      <td>85.0</td>\n",
       "    </tr>\n",
       "    <tr>\n",
       "      <th>626</th>\n",
       "      <td>Coco</td>\n",
       "      <td>798001982</td>\n",
       "      <td>209726015</td>\n",
       "      <td>588275967</td>\n",
       "      <td>26.28</td>\n",
       "      <td>2017</td>\n",
       "      <td>97.0</td>\n",
       "      <td>81.0</td>\n",
       "      <td>84.0</td>\n",
       "    </tr>\n",
       "    <tr>\n",
       "      <th>66</th>\n",
       "      <td>3 Idiots</td>\n",
       "      <td>69533849</td>\n",
       "      <td>6533849</td>\n",
       "      <td>63000000</td>\n",
       "      <td>9.40</td>\n",
       "      <td>2009</td>\n",
       "      <td>100.0</td>\n",
       "      <td>67.0</td>\n",
       "      <td>84.0</td>\n",
       "    </tr>\n",
       "    <tr>\n",
       "      <th>250</th>\n",
       "      <td>The Dark Knight Rises</td>\n",
       "      <td>1084439099</td>\n",
       "      <td>448139099</td>\n",
       "      <td>636300000</td>\n",
       "      <td>41.32</td>\n",
       "      <td>2012</td>\n",
       "      <td>87.0</td>\n",
       "      <td>78.0</td>\n",
       "      <td>84.0</td>\n",
       "    </tr>\n",
       "    <tr>\n",
       "      <th>261</th>\n",
       "      <td>Django Unchained</td>\n",
       "      <td>449948323</td>\n",
       "      <td>162805434</td>\n",
       "      <td>287142889</td>\n",
       "      <td>36.18</td>\n",
       "      <td>2012</td>\n",
       "      <td>86.0</td>\n",
       "      <td>81.0</td>\n",
       "      <td>84.0</td>\n",
       "    </tr>\n",
       "    <tr>\n",
       "      <th>75</th>\n",
       "      <td>Toy Story 3</td>\n",
       "      <td>1068879522</td>\n",
       "      <td>415004880</td>\n",
       "      <td>653874642</td>\n",
       "      <td>38.83</td>\n",
       "      <td>2010</td>\n",
       "      <td>98.0</td>\n",
       "      <td>92.0</td>\n",
       "      <td>83.0</td>\n",
       "    </tr>\n",
       "    <tr>\n",
       "      <th>15</th>\n",
       "      <td>Inglourious Basterds</td>\n",
       "      <td>316915264</td>\n",
       "      <td>120774594</td>\n",
       "      <td>196140670</td>\n",
       "      <td>38.11</td>\n",
       "      <td>2009</td>\n",
       "      <td>89.0</td>\n",
       "      <td>69.0</td>\n",
       "      <td>83.0</td>\n",
       "    </tr>\n",
       "  </tbody>\n",
       "</table>\n",
       "</div>"
      ],
      "text/plain": [
       "                clean_movie  Worldwide Box Office  Domestic Box Office  \\\n",
       "77                Inception             835524642            292576195   \n",
       "406            Interstellar             665299250            188017894   \n",
       "750       Avengers: Endgame            2795409509            858367305   \n",
       "689  Avengers: Infinity War            2048134200            678815482   \n",
       "626                    Coco             798001982            209726015   \n",
       "66                 3 Idiots              69533849              6533849   \n",
       "250   The Dark Knight Rises            1084439099            448139099   \n",
       "261        Django Unchained             449948323            162805434   \n",
       "75              Toy Story 3            1068879522            415004880   \n",
       "15     Inglourious Basterds             316915264            120774594   \n",
       "\n",
       "     International Box Office  DomesticShare  year  Rotten_Score  \\\n",
       "77                  542948447          35.02  2010          87.0   \n",
       "406                 477281356          28.26  2014          72.0   \n",
       "750                1937042204          30.71  2019          94.0   \n",
       "689                1369318718          33.14  2018          85.0   \n",
       "626                 588275967          26.28  2017          97.0   \n",
       "66                   63000000           9.40  2009         100.0   \n",
       "250                 636300000          41.32  2012          87.0   \n",
       "261                 287142889          36.18  2012          86.0   \n",
       "75                  653874642          38.83  2010          98.0   \n",
       "15                  196140670          38.11  2009          89.0   \n",
       "\n",
       "     Metacritic_Score  Imdb_Score  \n",
       "77               74.0        88.0  \n",
       "406              74.0        86.0  \n",
       "750              78.0        86.0  \n",
       "689              68.0        85.0  \n",
       "626              81.0        84.0  \n",
       "66               67.0        84.0  \n",
       "250              78.0        84.0  \n",
       "261              81.0        84.0  \n",
       "75               92.0        83.0  \n",
       "15               69.0        83.0  "
      ]
     },
     "execution_count": 16,
     "metadata": {},
     "output_type": "execute_result"
    }
   ],
   "source": [
    "final_df.sort_values('Imdb_Score',ascending=False).head(10)"
   ]
  },
  {
   "cell_type": "code",
   "execution_count": 17,
   "metadata": {},
   "outputs": [
    {
     "data": {
      "text/html": [
       "<div>\n",
       "<style scoped>\n",
       "    .dataframe tbody tr th:only-of-type {\n",
       "        vertical-align: middle;\n",
       "    }\n",
       "\n",
       "    .dataframe tbody tr th {\n",
       "        vertical-align: top;\n",
       "    }\n",
       "\n",
       "    .dataframe thead th {\n",
       "        text-align: right;\n",
       "    }\n",
       "</style>\n",
       "<table border=\"1\" class=\"dataframe\">\n",
       "  <thead>\n",
       "    <tr style=\"text-align: right;\">\n",
       "      <th></th>\n",
       "      <th>clean_movie</th>\n",
       "      <th>Worldwide Box Office</th>\n",
       "      <th>Domestic Box Office</th>\n",
       "      <th>International Box Office</th>\n",
       "      <th>DomesticShare</th>\n",
       "      <th>year</th>\n",
       "      <th>Rotten_Score</th>\n",
       "      <th>Metacritic_Score</th>\n",
       "      <th>Imdb_Score</th>\n",
       "    </tr>\n",
       "  </thead>\n",
       "  <tbody>\n",
       "    <tr>\n",
       "      <th>66</th>\n",
       "      <td>3 Idiots</td>\n",
       "      <td>69533849</td>\n",
       "      <td>6533849</td>\n",
       "      <td>63000000</td>\n",
       "      <td>9.40</td>\n",
       "      <td>2009</td>\n",
       "      <td>100.0</td>\n",
       "      <td>67.0</td>\n",
       "      <td>84.0</td>\n",
       "    </tr>\n",
       "    <tr>\n",
       "      <th>681</th>\n",
       "      <td>Lady Bird</td>\n",
       "      <td>78610769</td>\n",
       "      <td>48958273</td>\n",
       "      <td>29652496</td>\n",
       "      <td>62.28</td>\n",
       "      <td>2017</td>\n",
       "      <td>99.0</td>\n",
       "      <td>94.0</td>\n",
       "      <td>74.0</td>\n",
       "    </tr>\n",
       "    <tr>\n",
       "      <th>83</th>\n",
       "      <td>How to Train Your Dragon</td>\n",
       "      <td>494870992</td>\n",
       "      <td>217581232</td>\n",
       "      <td>277289760</td>\n",
       "      <td>43.97</td>\n",
       "      <td>2010</td>\n",
       "      <td>99.0</td>\n",
       "      <td>74.0</td>\n",
       "      <td>81.0</td>\n",
       "    </tr>\n",
       "    <tr>\n",
       "      <th>5</th>\n",
       "      <td>Up</td>\n",
       "      <td>731463377</td>\n",
       "      <td>293004164</td>\n",
       "      <td>438459213</td>\n",
       "      <td>40.06</td>\n",
       "      <td>2009</td>\n",
       "      <td>98.0</td>\n",
       "      <td>88.0</td>\n",
       "      <td>82.0</td>\n",
       "    </tr>\n",
       "    <tr>\n",
       "      <th>480</th>\n",
       "      <td>Inside Out</td>\n",
       "      <td>854235992</td>\n",
       "      <td>356461711</td>\n",
       "      <td>497774281</td>\n",
       "      <td>41.73</td>\n",
       "      <td>2015</td>\n",
       "      <td>98.0</td>\n",
       "      <td>94.0</td>\n",
       "      <td>82.0</td>\n",
       "    </tr>\n",
       "    <tr>\n",
       "      <th>75</th>\n",
       "      <td>Toy Story 3</td>\n",
       "      <td>1068879522</td>\n",
       "      <td>415004880</td>\n",
       "      <td>653874642</td>\n",
       "      <td>38.83</td>\n",
       "      <td>2010</td>\n",
       "      <td>98.0</td>\n",
       "      <td>92.0</td>\n",
       "      <td>83.0</td>\n",
       "    </tr>\n",
       "    <tr>\n",
       "      <th>648</th>\n",
       "      <td>Get Out</td>\n",
       "      <td>255367951</td>\n",
       "      <td>176040665</td>\n",
       "      <td>79327286</td>\n",
       "      <td>68.94</td>\n",
       "      <td>2017</td>\n",
       "      <td>98.0</td>\n",
       "      <td>84.0</td>\n",
       "      <td>77.0</td>\n",
       "    </tr>\n",
       "    <tr>\n",
       "      <th>528</th>\n",
       "      <td>Spotlight</td>\n",
       "      <td>92088460</td>\n",
       "      <td>45055776</td>\n",
       "      <td>47032684</td>\n",
       "      <td>48.93</td>\n",
       "      <td>2015</td>\n",
       "      <td>97.0</td>\n",
       "      <td>93.0</td>\n",
       "      <td>81.0</td>\n",
       "    </tr>\n",
       "    <tr>\n",
       "      <th>490</th>\n",
       "      <td>Mad Max: Fury Road</td>\n",
       "      <td>370098020</td>\n",
       "      <td>153636354</td>\n",
       "      <td>216461666</td>\n",
       "      <td>41.51</td>\n",
       "      <td>2015</td>\n",
       "      <td>97.0</td>\n",
       "      <td>90.0</td>\n",
       "      <td>81.0</td>\n",
       "    </tr>\n",
       "    <tr>\n",
       "      <th>617</th>\n",
       "      <td>Kubo and the Two Strings</td>\n",
       "      <td>77548122</td>\n",
       "      <td>48023088</td>\n",
       "      <td>29525034</td>\n",
       "      <td>61.93</td>\n",
       "      <td>2016</td>\n",
       "      <td>97.0</td>\n",
       "      <td>84.0</td>\n",
       "      <td>78.0</td>\n",
       "    </tr>\n",
       "  </tbody>\n",
       "</table>\n",
       "</div>"
      ],
      "text/plain": [
       "                  clean_movie  Worldwide Box Office  Domestic Box Office  \\\n",
       "66                   3 Idiots              69533849              6533849   \n",
       "681                 Lady Bird              78610769             48958273   \n",
       "83   How to Train Your Dragon             494870992            217581232   \n",
       "5                          Up             731463377            293004164   \n",
       "480                Inside Out             854235992            356461711   \n",
       "75                Toy Story 3            1068879522            415004880   \n",
       "648                   Get Out             255367951            176040665   \n",
       "528                 Spotlight              92088460             45055776   \n",
       "490        Mad Max: Fury Road             370098020            153636354   \n",
       "617  Kubo and the Two Strings              77548122             48023088   \n",
       "\n",
       "     International Box Office  DomesticShare  year  Rotten_Score  \\\n",
       "66                   63000000           9.40  2009         100.0   \n",
       "681                  29652496          62.28  2017          99.0   \n",
       "83                  277289760          43.97  2010          99.0   \n",
       "5                   438459213          40.06  2009          98.0   \n",
       "480                 497774281          41.73  2015          98.0   \n",
       "75                  653874642          38.83  2010          98.0   \n",
       "648                  79327286          68.94  2017          98.0   \n",
       "528                  47032684          48.93  2015          97.0   \n",
       "490                 216461666          41.51  2015          97.0   \n",
       "617                  29525034          61.93  2016          97.0   \n",
       "\n",
       "     Metacritic_Score  Imdb_Score  \n",
       "66               67.0        84.0  \n",
       "681              94.0        74.0  \n",
       "83               74.0        81.0  \n",
       "5                88.0        82.0  \n",
       "480              94.0        82.0  \n",
       "75               92.0        83.0  \n",
       "648              84.0        77.0  \n",
       "528              93.0        81.0  \n",
       "490              90.0        81.0  \n",
       "617              84.0        78.0  "
      ]
     },
     "execution_count": 17,
     "metadata": {},
     "output_type": "execute_result"
    }
   ],
   "source": [
    "final_df.sort_values('Rotten_Score',ascending=False).head(10)"
   ]
  },
  {
   "cell_type": "code",
   "execution_count": 18,
   "metadata": {},
   "outputs": [
    {
     "data": {
      "text/html": [
       "<div>\n",
       "<style scoped>\n",
       "    .dataframe tbody tr th:only-of-type {\n",
       "        vertical-align: middle;\n",
       "    }\n",
       "\n",
       "    .dataframe tbody tr th {\n",
       "        vertical-align: top;\n",
       "    }\n",
       "\n",
       "    .dataframe thead th {\n",
       "        text-align: right;\n",
       "    }\n",
       "</style>\n",
       "<table border=\"1\" class=\"dataframe\">\n",
       "  <thead>\n",
       "    <tr style=\"text-align: right;\">\n",
       "      <th></th>\n",
       "      <th>clean_movie</th>\n",
       "      <th>Worldwide Box Office</th>\n",
       "      <th>Domestic Box Office</th>\n",
       "      <th>International Box Office</th>\n",
       "      <th>DomesticShare</th>\n",
       "      <th>year</th>\n",
       "      <th>Rotten_Score</th>\n",
       "      <th>Metacritic_Score</th>\n",
       "      <th>Imdb_Score</th>\n",
       "    </tr>\n",
       "  </thead>\n",
       "  <tbody>\n",
       "    <tr>\n",
       "      <th>327</th>\n",
       "      <td>Gravity</td>\n",
       "      <td>693698673</td>\n",
       "      <td>274092705</td>\n",
       "      <td>419605968</td>\n",
       "      <td>39.51</td>\n",
       "      <td>2013</td>\n",
       "      <td>96.0</td>\n",
       "      <td>96.0</td>\n",
       "      <td>77.0</td>\n",
       "    </tr>\n",
       "    <tr>\n",
       "      <th>616</th>\n",
       "      <td>Manchester by the Sea</td>\n",
       "      <td>77733867</td>\n",
       "      <td>47695371</td>\n",
       "      <td>30038496</td>\n",
       "      <td>61.36</td>\n",
       "      <td>2016</td>\n",
       "      <td>96.0</td>\n",
       "      <td>96.0</td>\n",
       "      <td>78.0</td>\n",
       "    </tr>\n",
       "    <tr>\n",
       "      <th>360</th>\n",
       "      <td>12 Years a Slave</td>\n",
       "      <td>181025343</td>\n",
       "      <td>56671993</td>\n",
       "      <td>124353350</td>\n",
       "      <td>31.31</td>\n",
       "      <td>2013</td>\n",
       "      <td>95.0</td>\n",
       "      <td>96.0</td>\n",
       "      <td>81.0</td>\n",
       "    </tr>\n",
       "    <tr>\n",
       "      <th>105</th>\n",
       "      <td>The Social Network</td>\n",
       "      <td>224922135</td>\n",
       "      <td>96962694</td>\n",
       "      <td>127959441</td>\n",
       "      <td>43.11</td>\n",
       "      <td>2010</td>\n",
       "      <td>96.0</td>\n",
       "      <td>95.0</td>\n",
       "      <td>77.0</td>\n",
       "    </tr>\n",
       "    <tr>\n",
       "      <th>295</th>\n",
       "      <td>Zero Dark Thirty</td>\n",
       "      <td>134612435</td>\n",
       "      <td>95720716</td>\n",
       "      <td>38891719</td>\n",
       "      <td>71.11</td>\n",
       "      <td>2012</td>\n",
       "      <td>92.0</td>\n",
       "      <td>95.0</td>\n",
       "      <td>74.0</td>\n",
       "    </tr>\n",
       "    <tr>\n",
       "      <th>480</th>\n",
       "      <td>Inside Out</td>\n",
       "      <td>854235992</td>\n",
       "      <td>356461711</td>\n",
       "      <td>497774281</td>\n",
       "      <td>41.73</td>\n",
       "      <td>2015</td>\n",
       "      <td>98.0</td>\n",
       "      <td>94.0</td>\n",
       "      <td>82.0</td>\n",
       "    </tr>\n",
       "    <tr>\n",
       "      <th>681</th>\n",
       "      <td>Lady Bird</td>\n",
       "      <td>78610769</td>\n",
       "      <td>48958273</td>\n",
       "      <td>29652496</td>\n",
       "      <td>62.28</td>\n",
       "      <td>2017</td>\n",
       "      <td>99.0</td>\n",
       "      <td>94.0</td>\n",
       "      <td>74.0</td>\n",
       "    </tr>\n",
       "    <tr>\n",
       "      <th>634</th>\n",
       "      <td>Dunkirk</td>\n",
       "      <td>499837368</td>\n",
       "      <td>190068280</td>\n",
       "      <td>309769088</td>\n",
       "      <td>38.03</td>\n",
       "      <td>2017</td>\n",
       "      <td>92.0</td>\n",
       "      <td>94.0</td>\n",
       "      <td>79.0</td>\n",
       "    </tr>\n",
       "    <tr>\n",
       "      <th>555</th>\n",
       "      <td>La La Land</td>\n",
       "      <td>426351163</td>\n",
       "      <td>151101803</td>\n",
       "      <td>275249360</td>\n",
       "      <td>35.44</td>\n",
       "      <td>2016</td>\n",
       "      <td>91.0</td>\n",
       "      <td>93.0</td>\n",
       "      <td>80.0</td>\n",
       "    </tr>\n",
       "    <tr>\n",
       "      <th>528</th>\n",
       "      <td>Spotlight</td>\n",
       "      <td>92088460</td>\n",
       "      <td>45055776</td>\n",
       "      <td>47032684</td>\n",
       "      <td>48.93</td>\n",
       "      <td>2015</td>\n",
       "      <td>97.0</td>\n",
       "      <td>93.0</td>\n",
       "      <td>81.0</td>\n",
       "    </tr>\n",
       "  </tbody>\n",
       "</table>\n",
       "</div>"
      ],
      "text/plain": [
       "               clean_movie  Worldwide Box Office  Domestic Box Office  \\\n",
       "327                Gravity             693698673            274092705   \n",
       "616  Manchester by the Sea              77733867             47695371   \n",
       "360       12 Years a Slave             181025343             56671993   \n",
       "105     The Social Network             224922135             96962694   \n",
       "295       Zero Dark Thirty             134612435             95720716   \n",
       "480             Inside Out             854235992            356461711   \n",
       "681              Lady Bird              78610769             48958273   \n",
       "634                Dunkirk             499837368            190068280   \n",
       "555             La La Land             426351163            151101803   \n",
       "528              Spotlight              92088460             45055776   \n",
       "\n",
       "     International Box Office  DomesticShare  year  Rotten_Score  \\\n",
       "327                 419605968          39.51  2013          96.0   \n",
       "616                  30038496          61.36  2016          96.0   \n",
       "360                 124353350          31.31  2013          95.0   \n",
       "105                 127959441          43.11  2010          96.0   \n",
       "295                  38891719          71.11  2012          92.0   \n",
       "480                 497774281          41.73  2015          98.0   \n",
       "681                  29652496          62.28  2017          99.0   \n",
       "634                 309769088          38.03  2017          92.0   \n",
       "555                 275249360          35.44  2016          91.0   \n",
       "528                  47032684          48.93  2015          97.0   \n",
       "\n",
       "     Metacritic_Score  Imdb_Score  \n",
       "327              96.0        77.0  \n",
       "616              96.0        78.0  \n",
       "360              96.0        81.0  \n",
       "105              95.0        77.0  \n",
       "295              95.0        74.0  \n",
       "480              94.0        82.0  \n",
       "681              94.0        74.0  \n",
       "634              94.0        79.0  \n",
       "555              93.0        80.0  \n",
       "528              93.0        81.0  "
      ]
     },
     "execution_count": 18,
     "metadata": {},
     "output_type": "execute_result"
    }
   ],
   "source": [
    "final_df.sort_values('Metacritic_Score',ascending=False).head(10)"
   ]
  },
  {
   "cell_type": "code",
   "execution_count": 48,
   "metadata": {},
   "outputs": [
    {
     "data": {
      "text/plain": [
       "281204627.28230864"
      ]
     },
     "execution_count": 48,
     "metadata": {},
     "output_type": "execute_result"
    }
   ],
   "source": [
    "final_df['Worldwide Box Office'].mean()"
   ]
  },
  {
   "cell_type": "code",
   "execution_count": 49,
   "metadata": {},
   "outputs": [
    {
     "data": {
      "text/plain": [
       "108718815.21455458"
      ]
     },
     "execution_count": 49,
     "metadata": {},
     "output_type": "execute_result"
    }
   ],
   "source": [
    "final_df['Domestic Box Office'].mean()"
   ]
  },
  {
   "cell_type": "code",
   "execution_count": 50,
   "metadata": {},
   "outputs": [
    {
     "data": {
      "text/plain": [
       "172485812.0677541"
      ]
     },
     "execution_count": 50,
     "metadata": {},
     "output_type": "execute_result"
    }
   ],
   "source": [
    "final_df['International Box Office'].mean()"
   ]
  },
  {
   "cell_type": "code",
   "execution_count": 55,
   "metadata": {},
   "outputs": [
    {
     "data": {
      "text/plain": [
       "55.59723964868256"
      ]
     },
     "execution_count": 55,
     "metadata": {},
     "output_type": "execute_result"
    }
   ],
   "source": [
    "final_df['Rotten_Score'].mean()"
   ]
  },
  {
   "cell_type": "code",
   "execution_count": 56,
   "metadata": {},
   "outputs": [
    {
     "data": {
      "text/plain": [
       "65.27603513174404"
      ]
     },
     "execution_count": 56,
     "metadata": {},
     "output_type": "execute_result"
    }
   ],
   "source": [
    "final_df['Imdb_Score'].mean()"
   ]
  },
  {
   "cell_type": "code",
   "execution_count": 57,
   "metadata": {},
   "outputs": [
    {
     "data": {
      "text/plain": [
       "54.429109159347554"
      ]
     },
     "execution_count": 57,
     "metadata": {},
     "output_type": "execute_result"
    }
   ],
   "source": [
    "final_df['Metacritic_Score'].mean()"
   ]
  },
  {
   "cell_type": "code",
   "execution_count": 52,
   "metadata": {},
   "outputs": [],
   "source": [
    "import matplotlib.pyplot as plt\n",
    "%matplotlib inline\n",
    "plt.style.use('ggplot')"
   ]
  },
  {
   "cell_type": "code",
   "execution_count": 54,
   "metadata": {
    "scrolled": true
   },
   "outputs": [
    {
     "data": {
      "text/plain": [
       "array([[<matplotlib.axes._subplots.AxesSubplot object at 0x7f5cf067b550>,\n",
       "        <matplotlib.axes._subplots.AxesSubplot object at 0x7f5cf0308c50>,\n",
       "        <matplotlib.axes._subplots.AxesSubplot object at 0x7f5cf055f208>],\n",
       "       [<matplotlib.axes._subplots.AxesSubplot object at 0x7f5cf050e7b8>,\n",
       "        <matplotlib.axes._subplots.AxesSubplot object at 0x7f5cf0540d68>,\n",
       "        <matplotlib.axes._subplots.AxesSubplot object at 0x7f5cf04fe358>],\n",
       "       [<matplotlib.axes._subplots.AxesSubplot object at 0x7f5cf04ae908>,\n",
       "        <matplotlib.axes._subplots.AxesSubplot object at 0x7f5cf0462ef0>,\n",
       "        <matplotlib.axes._subplots.AxesSubplot object at 0x7f5cf0462f28>]],\n",
       "      dtype=object)"
      ]
     },
     "execution_count": 54,
     "metadata": {},
     "output_type": "execute_result"
    },
    {
     "data": {
      "image/png": "[encoded data removed]",
      "text/plain": [
       "<Figure size 864x504 with 9 Axes>"
      ]
     },
     "metadata": {},
     "output_type": "display_data"
    }
   ],
   "source": [
    "final_df.hist(figsize=(12,7),bins=30)"
   ]
  },
  {
   "cell_type": "code",
   "execution_count": 217,
   "metadata": {},
   "outputs": [],
   "source": [
    "from collections import OrderedDict\n",
    "def break_into_years(dataframe):\n",
    "    '''\n",
    "    This will break the data frame into a dicitionary of years\n",
    "    Parameters\n",
    "    ----------\n",
    "    Data frame that is orderd by year \n",
    "    \n",
    "    Returns\n",
    "    -------\n",
    "    years_dict:\n",
    "    A dictionary of data frames split into the unique years. \n",
    "    '''\n",
    "    years_dict = OrderedDict()\n",
    "    for year in range(2009,2020):\n",
    "        key = 'year' + str(year)\n",
    "        years_dict[key] = final_df[final_df['year']==year]\n",
    "    return years_dict"
   ]
  },
  {
   "cell_type": "code",
   "execution_count": 218,
   "metadata": {},
   "outputs": [],
   "source": [
    "final_df.query('year==2009')\n",
    "year2009 = final_df[final_df['year']==2009]\n",
    "years = {x : final_df[final_df['year']==x] for x in range(2009, 2020)}"
   ]
  },
  {
   "cell_type": "code",
   "execution_count": 219,
   "metadata": {},
   "outputs": [],
   "source": [
    "grouped = final_df.groupby('year')"
   ]
  },
  {
   "cell_type": "code",
   "execution_count": 220,
   "metadata": {},
   "outputs": [],
   "source": [
    "years_split = break_into_years(final_df)"
   ]
  },
  {
   "cell_type": "code",
   "execution_count": 269,
   "metadata": {},
   "outputs": [],
   "source": [
    "def get_domestic_per_year(dataframe):\n",
    "    domestic_gross_dict = OrderedDict()\n",
    "    for year in range(2009,2020):\n",
    "        key = 'year' + str(year)\n",
    "        domestic_gross_dict[key] = years_split['year'+str(year)]['Domestic Box Office'].sum()\n",
    "    return domestic_gross_dict"
   ]
  },
  {
   "cell_type": "code",
   "execution_count": 290,
   "metadata": {},
   "outputs": [],
   "source": [
    "dom_gross = get_domestic_per_year(final_df)"
   ]
  },
  {
   "cell_type": "code",
   "execution_count": 273,
   "metadata": {},
   "outputs": [],
   "source": [
    "def get_international_per_year(dataframe):\n",
    "    inter_gross_dict = OrderedDict()\n",
    "    for year in range(2009,2020):\n",
    "        key = 'year' + str(year)\n",
    "        inter_gross_dict[key] = years_split['year'+str(year)]['International Box Office'].sum()\n",
    "    return inter_gross_dict"
   ]
  },
  {
   "cell_type": "code",
   "execution_count": 291,
   "metadata": {},
   "outputs": [],
   "source": [
    "inter_gross = get_international_per_year(final_df)"
   ]
  },
  {
   "cell_type": "code",
   "execution_count": 300,
   "metadata": {},
   "outputs": [],
   "source": [
    "def plot_gross_dom_vs_inter(dict1,dict2):\n",
    "    fig,ax = plt.subplots(figsize=(12,7),sharex=True,sharey=True)\n",
    "    for year in range(2009,2020):\n",
    "        ax.bar(year,dom_gross['year'+str(year)], color='blue')\n",
    "        ax.bar(year,inter_gross['year'+str(year)], color='red',alpha=.5)\n",
    "        if year ==2019:\n",
    "            ax.bar(year,dom_gross['year'+str(year)], color='blue',label='Domestic')\n",
    "            ax.bar(year,inter_gross['year'+str(year)], color='red',alpha=.5,label='International')\n",
    "    ax.set_xlabel = ('Years')\n",
    "    ax.set_ylabel('Money Grossed')\n",
    "    ax.set_title('Domestic and International Gross Per Year')\n",
    "    ax.legend(loc='best')\n",
    "    return"
   ]
  },
  {
   "cell_type": "code",
   "execution_count": 301,
   "metadata": {},
   "outputs": [
    {
     "data": {
      "image/png": "[encoded data removed]",
      "text/plain": [
       "<Figure size 864x504 with 1 Axes>"
      ]
     },
     "metadata": {
      "needs_background": "light"
     },
     "output_type": "display_data"
    }
   ],
   "source": [
    "plot_gross_dom_vs_inter(dom_gross,inter_gross)"
   ]
  },
  {
   "cell_type": "code",
   "execution_count": 226,
   "metadata": {},
   "outputs": [],
   "source": [
    "from sklearn.linear_model import LinearRegression\n",
    "from scipy.stats import chi2 as chisqr\n",
    "from scipy import stats as stats\n",
    "import statsmodels.api as sm\n",
    "linreg = LinearRegression()"
   ]
  },
  {
   "cell_type": "code",
   "execution_count": 219,
   "metadata": {
    "scrolled": true
   },
   "outputs": [
    {
     "data": {
      "text/html": [
       "<table class=\"simpletable\">\n",
       "<caption>OLS Regression Results</caption>\n",
       "<tr>\n",
       "  <th>Dep. Variable:</th>    <td>Worldwide Box Office</td> <th>  R-squared (uncentered):</th>      <td>  -8.116</td> \n",
       "</tr>\n",
       "<tr>\n",
       "  <th>Model:</th>                     <td>OLS</td>         <th>  Adj. R-squared (uncentered):</th> <td>  -8.127</td> \n",
       "</tr>\n",
       "<tr>\n",
       "  <th>Method:</th>               <td>Least Squares</td>    <th>  F-statistic:       </th>          <td>  -708.7</td> \n",
       "</tr>\n",
       "<tr>\n",
       "  <th>Date:</th>               <td>Wed, 11 Sep 2019</td>   <th>  Prob (F-statistic):</th>           <td>  1.00</td>  \n",
       "</tr>\n",
       "<tr>\n",
       "  <th>Time:</th>                   <td>16:08:32</td>       <th>  Log-Likelihood:    </th>          <td> -16671.</td> \n",
       "</tr>\n",
       "<tr>\n",
       "  <th>No. Observations:</th>        <td>   797</td>        <th>  AIC:               </th>          <td>3.334e+04</td>\n",
       "</tr>\n",
       "<tr>\n",
       "  <th>Df Residuals:</th>            <td>   796</td>        <th>  BIC:               </th>          <td>3.335e+04</td>\n",
       "</tr>\n",
       "<tr>\n",
       "  <th>Df Model:</th>                <td>     1</td>        <th>                     </th>              <td> </td>    \n",
       "</tr>\n",
       "<tr>\n",
       "  <th>Covariance Type:</th>        <td>nonrobust</td>      <th>                     </th>              <td> </td>    \n",
       "</tr>\n",
       "</table>\n",
       "<table class=\"simpletable\">\n",
       "<tr>\n",
       "       <td></td>         <th>coef</th>     <th>std err</th>      <th>t</th>      <th>P>|t|</th>  <th>[0.025</th>    <th>0.975]</th>  \n",
       "</tr>\n",
       "<tr>\n",
       "  <th>Imdb_Score</th> <td> 4.428e+06</td> <td> 1.58e+05</td> <td>   28.049</td> <td> 0.000</td> <td> 4.12e+06</td> <td> 4.74e+06</td>\n",
       "</tr>\n",
       "</table>\n",
       "<table class=\"simpletable\">\n",
       "<tr>\n",
       "  <th>Omnibus:</th>       <td>564.840</td> <th>  Durbin-Watson:     </th> <td>   0.448</td>\n",
       "</tr>\n",
       "<tr>\n",
       "  <th>Prob(Omnibus):</th> <td> 0.000</td>  <th>  Jarque-Bera (JB):  </th> <td>8692.973</td>\n",
       "</tr>\n",
       "<tr>\n",
       "  <th>Skew:</th>          <td> 3.068</td>  <th>  Prob(JB):          </th> <td>    0.00</td>\n",
       "</tr>\n",
       "<tr>\n",
       "  <th>Kurtosis:</th>      <td>17.971</td>  <th>  Cond. No.          </th> <td>    1.00</td>\n",
       "</tr>\n",
       "</table><br/><br/>Warnings:<br/>[1] Standard Errors assume that the covariance matrix of the errors is correctly specified."
      ],
      "text/plain": [
       "<class 'statsmodels.iolib.summary.Summary'>\n",
       "\"\"\"\n",
       "                                  OLS Regression Results                                 \n",
       "=========================================================================================\n",
       "Dep. Variable:     Worldwide Box Office   R-squared (uncentered):                  -8.116\n",
       "Model:                              OLS   Adj. R-squared (uncentered):             -8.127\n",
       "Method:                   Least Squares   F-statistic:                             -708.7\n",
       "Date:                  Wed, 11 Sep 2019   Prob (F-statistic):                        1.00\n",
       "Time:                          16:08:32   Log-Likelihood:                         -16671.\n",
       "No. Observations:                   797   AIC:                                  3.334e+04\n",
       "Df Residuals:                       796   BIC:                                  3.335e+04\n",
       "Df Model:                             1                                                  \n",
       "Covariance Type:              nonrobust                                                  \n",
       "==============================================================================\n",
       "                 coef    std err          t      P>|t|      [0.025      0.975]\n",
       "------------------------------------------------------------------------------\n",
       "Imdb_Score  4.428e+06   1.58e+05     28.049      0.000    4.12e+06    4.74e+06\n",
       "==============================================================================\n",
       "Omnibus:                      564.840   Durbin-Watson:                   0.448\n",
       "Prob(Omnibus):                  0.000   Jarque-Bera (JB):             8692.973\n",
       "Skew:                           3.068   Prob(JB):                         0.00\n",
       "Kurtosis:                      17.971   Cond. No.                         1.00\n",
       "==============================================================================\n",
       "\n",
       "Warnings:\n",
       "[1] Standard Errors assume that the covariance matrix of the errors is correctly specified.\n",
       "\"\"\""
      ]
     },
     "execution_count": 219,
     "metadata": {},
     "output_type": "execute_result"
    }
   ],
   "source": [
    "X = final_df['Imdb_Score']\n",
    "y = final_df['Worldwide Box Office']\n",
    "model = sm.OLS(y, X).fit()\n",
    "predictions = model.predict(X) \n",
    "model.summary()"
   ]
  },
  {
   "cell_type": "code",
   "execution_count": 230,
   "metadata": {},
   "outputs": [
    {
     "data": {
      "text/plain": [
       "0.10050915958474915"
      ]
     },
     "execution_count": 230,
     "metadata": {},
     "output_type": "execute_result"
    }
   ],
   "source": [
    "y = final_df['Imdb_Score'].values.reshape(-1, 1) \n",
    "x = final_df['Worldwide Box Office'].values.reshape(-1, 1) \n",
    "linreg.fit(x,y)  \n",
    "y_pred = linreg.predict(x)  \n",
    "linreg.score(x,y)"
   ]
  },
  {
   "cell_type": "code",
   "execution_count": 231,
   "metadata": {},
   "outputs": [
    {
     "data": {
      "text/plain": [
       "Text(0.5, 1.0, 'Imdb Linear Regression')"
      ]
     },
     "execution_count": 231,
     "metadata": {},
     "output_type": "execute_result"
    },
    {
     "data": {
      "image/png": "[encoded data removed]",
      "text/plain": [
       "<Figure size 432x288 with 1 Axes>"
      ]
     },
     "metadata": {
      "needs_background": "light"
     },
     "output_type": "display_data"
    }
   ],
   "source": [
    "fig,ax = plt.subplots()\n",
    "ax.scatter(x, y, color='green')\n",
    "ax.plot(x, y_pred, color='black')\n",
    "ax.set_xlabel = ('Worldwide Box Office Gross')\n",
    "ax.set_ylabel('Imdb Ratings Score')\n",
    "ax.set_title('Imdb Linear Regression')"
   ]
  },
  {
   "cell_type": "code",
   "execution_count": 232,
   "metadata": {},
   "outputs": [
    {
     "data": {
      "text/plain": [
       "0.07057398877046972"
      ]
     },
     "execution_count": 232,
     "metadata": {},
     "output_type": "execute_result"
    }
   ],
   "source": [
    "y = final_df['Rotten_Score'].values.reshape(-1, 1) \n",
    "x = final_df['Worldwide Box Office'].values.reshape(-1, 1) \n",
    "linreg.fit(x,y)  \n",
    "y_pred = linreg.predict(x)  \n",
    "linreg.score(x,y)"
   ]
  },
  {
   "cell_type": "code",
   "execution_count": 233,
   "metadata": {},
   "outputs": [
    {
     "data": {
      "text/plain": [
       "Text(0.5, 1.0, 'Rotten Linear Regression')"
      ]
     },
     "execution_count": 233,
     "metadata": {},
     "output_type": "execute_result"
    },
    {
     "data": {
      "image/png": "[encoded data removed]",
      "text/plain": [
       "<Figure size 432x288 with 1 Axes>"
      ]
     },
     "metadata": {
      "needs_background": "light"
     },
     "output_type": "display_data"
    }
   ],
   "source": [
    "fig,ax = plt.subplots()\n",
    "ax.scatter(x, y, color='red')\n",
    "ax.plot(x, y_pred, color='black')\n",
    "ax.set_xlabel = ('Worldwide Box Office Gross')\n",
    "ax.set_ylabel('Rotten Ratings Score')\n",
    "ax.set_title('Rotten Linear Regression')"
   ]
  },
  {
   "cell_type": "code",
   "execution_count": 234,
   "metadata": {},
   "outputs": [
    {
     "data": {
      "text/plain": [
       "0.06753353240875681"
      ]
     },
     "execution_count": 234,
     "metadata": {},
     "output_type": "execute_result"
    }
   ],
   "source": [
    "y = final_df['Metacritic_Score'].values.reshape(-1, 1) \n",
    "x = final_df['Worldwide Box Office'].values.reshape(-1, 1) \n",
    "linreg.fit(x,y)  \n",
    "y_pred = linreg.predict(x)  \n",
    "linreg.score(x,y)"
   ]
  },
  {
   "cell_type": "code",
   "execution_count": 235,
   "metadata": {},
   "outputs": [
    {
     "data": {
      "text/plain": [
       "Text(0.5, 1.0, 'Metacritic Linear Regression')"
      ]
     },
     "execution_count": 235,
     "metadata": {},
     "output_type": "execute_result"
    },
    {
     "data": {
      "image/png": "[encoded data removed]",
      "text/plain": [
       "<Figure size 432x288 with 1 Axes>"
      ]
     },
     "metadata": {
      "needs_background": "light"
     },
     "output_type": "display_data"
    }
   ],
   "source": [
    "fig,ax = plt.subplots()\n",
    "ax.scatter(x, y, color='blue')\n",
    "ax.plot(x, y_pred, color='black')\n",
    "ax.set_xlabel = ('Worldwide Box Office Gross')\n",
    "ax.set_ylabel('Metacritic Ratings Score')\n",
    "ax.set_title('Metacritic Linear Regression')"
   ]
  },
  {
   "cell_type": "code",
   "execution_count": 236,
   "metadata": {},
   "outputs": [],
   "source": [
    "import seaborn as sns"
   ]
  },
  {
   "cell_type": "code",
   "execution_count": 203,
   "metadata": {
    "scrolled": true
   },
   "outputs": [
    {
     "data": {
      "text/plain": [
       "<matplotlib.axes._subplots.AxesSubplot at 0x7f5c5c37add8>"
      ]
     },
     "execution_count": 203,
     "metadata": {},
     "output_type": "execute_result"
    },
    {
     "data": {
      "image/png": "[encoded data removed]",
      "text/plain": [
       "<Figure size 432x288 with 1 Axes>"
      ]
     },
     "metadata": {},
     "output_type": "display_data"
    }
   ],
   "source": [
    "sns.distplot(final_df['Worldwide Box Office'])"
   ]
  },
  {
   "cell_type": "code",
   "execution_count": 163,
   "metadata": {},
   "outputs": [],
   "source": [
    "Y = final_df['Worldwide Box Office'].values.reshape(-1, 1) \n",
    "X = final_df['Imdb_Score'].values.reshape(-1, 1) "
   ]
  },
  {
   "cell_type": "code",
   "execution_count": 165,
   "metadata": {},
   "outputs": [],
   "source": [
    "from sklearn.model_selection import train_test_split"
   ]
  },
  {
   "cell_type": "code",
   "execution_count": 190,
   "metadata": {},
   "outputs": [],
   "source": [
    "X_train, X_test, y_train, y_test = train_test_split(X, y, test_size=0.4,random_state=10)"
   ]
  },
  {
   "cell_type": "code",
   "execution_count": 196,
   "metadata": {},
   "outputs": [
    {
     "data": {
      "text/plain": [
       "LinearRegression(copy_X=True, fit_intercept=True, n_jobs=None, normalize=False)"
      ]
     },
     "execution_count": 196,
     "metadata": {},
     "output_type": "execute_result"
    }
   ],
   "source": [
    "linreg.fit(X_train,y_train)"
   ]
  },
  {
   "cell_type": "code",
   "execution_count": 212,
   "metadata": {},
   "outputs": [],
   "source": [
    "pred = linreg.predict(X_test)"
   ]
  },
  {
   "cell_type": "code",
   "execution_count": 205,
   "metadata": {},
   "outputs": [
    {
     "name": "stdout",
     "output_type": "stream",
     "text": [
      "[[10968917.78245148]]\n"
     ]
    }
   ],
   "source": [
    "print(linreg.coef_)"
   ]
  },
  {
   "cell_type": "code",
   "execution_count": 206,
   "metadata": {},
   "outputs": [
    {
     "name": "stdout",
     "output_type": "stream",
     "text": [
      "[-4.37769198e+08]\n"
     ]
    }
   ],
   "source": [
    "print(linreg.intercept_)"
   ]
  },
  {
   "cell_type": "code",
   "execution_count": 198,
   "metadata": {},
   "outputs": [
    {
     "data": {
      "text/plain": [
       "<matplotlib.collections.PathCollection at 0x7f5c5c428cc0>"
      ]
     },
     "execution_count": 198,
     "metadata": {},
     "output_type": "execute_result"
    },
    {
     "data": {
      "image/png": "[encoded data removed]",
      "text/plain": [
       "<Figure size 432x288 with 1 Axes>"
      ]
     },
     "metadata": {},
     "output_type": "display_data"
    }
   ],
   "source": [
    "plt.scatter(y_test,pred)\n"
   ]
  },
  {
   "cell_type": "code",
   "execution_count": 201,
   "metadata": {},
   "outputs": [],
   "source": [
    "import numpy as np"
   ]
  },
  {
   "cell_type": "code",
   "execution_count": 202,
   "metadata": {},
   "outputs": [
    {
     "name": "stdout",
     "output_type": "stream",
     "text": [
      "Mean Absolute Error: 185022622.61864415\n",
      "Mean Squared Error: 6.763330720060035e+16\n",
      "Root Mean Squared Error: 260064044.42098555\n"
     ]
    }
   ],
   "source": [
    "print('Mean Absolute Error:', metrics.mean_absolute_error(y_test, pred))  \n",
    "print('Mean Squared Error:', metrics.mean_squared_error(y_test, pred))  \n",
    "print('Root Mean Squared Error:', np.sqrt(metrics.mean_squared_error(y_test, pred)))"
   ]
  },
  {
   "cell_type": "code",
   "execution_count": 213,
   "metadata": {},
   "outputs": [
    {
     "data": {
      "text/plain": [
       "<matplotlib.axes._subplots.AxesSubplot at 0x7f5c5c0f7320>"
      ]
     },
     "execution_count": 213,
     "metadata": {},
     "output_type": "execute_result"
    },
    {
     "data": {
      "image/png": "[encoded data removed]",
      "text/plain": [
       "<Figure size 432x288 with 1 Axes>"
      ]
     },
     "metadata": {},
     "output_type": "display_data"
    }
   ],
   "source": [
    "sns.distplot((y_test - pred), bins=20)"
   ]
  },
  {
   "cell_type": "code",
   "execution_count": 244,
   "metadata": {},
   "outputs": [],
   "source": [
    "X = final_df[['Rotten_Score','Metacritic_Score','Imdb_Score']]\n",
    "y = final_df['Worldwide Box Office']\n",
    "X_train, X_test, y_train, y_test = train_test_split(X, y, test_size=0.2,random_state=10)\n",
    "from sklearn.metrics import mean_squared_error, r2_score"
   ]
  },
  {
   "cell_type": "code",
   "execution_count": 247,
   "metadata": {},
   "outputs": [
    {
     "name": "stdout",
     "output_type": "stream",
     "text": [
      "Mean squared error: 74015874495415536.00\n",
      "R²: 0.04\n",
      "Root Mean Squared Error: 272058586.5129339\n"
     ]
    }
   ],
   "source": [
    "reg = LinearRegression()\n",
    "reg.fit(X_train[['Rotten_Score','Metacritic_Score','Imdb_Score']], y_train)\n",
    "y_predicted = reg.predict(X_test[['Rotten_Score','Metacritic_Score','Imdb_Score']])\n",
    "print(\"Mean squared error: %.2f\" % mean_squared_error(y_test, y_predicted))\n",
    "print('R²: %.2f' % r2_score(y_test, y_predicted))\n",
    "print('Root Mean Squared Error:', np.sqrt(metrics.mean_squared_error(y_test, y_predicted)))"
   ]
  },
  {
   "cell_type": "code",
   "execution_count": 236,
   "metadata": {},
   "outputs": [
    {
     "data": {
      "text/plain": [
       "0.03477060682089628"
      ]
     },
     "execution_count": 236,
     "metadata": {},
     "output_type": "execute_result"
    }
   ],
   "source": [
    "y = final_df[['Metacritic_Score','Rotten_Score','Imdb_Score']].values.reshape(-1,1)\n",
    "x = final_df['Worldwide Box Office'].values.reshape(-1,1)\n",
    "linreg.fit(x,y)  \n",
    "y_pred = linreg.predict(x)  \n",
    "linreg.score(x,y)"
   ]
  },
  {
   "cell_type": "code",
   "execution_count": 237,
   "metadata": {},
   "outputs": [
    {
     "data": {
      "text/plain": [
       "[<matplotlib.lines.Line2D at 0x7f5c55e71b00>]"
      ]
     },
     "execution_count": 237,
     "metadata": {},
     "output_type": "execute_result"
    },
    {
     "data": {
      "image/png": "[encoded data removed]",
      "text/plain": [
       "<Figure size 576x396 with 1 Axes>"
      ]
     },
     "metadata": {},
     "output_type": "display_data"
    }
   ],
   "source": [
    "plt.scatter(x, y)\n",
    "plt.plot(x, y_pred, color='orange')"
   ]
  },
  {
   "cell_type": "code",
   "execution_count": 146,
   "metadata": {},
   "outputs": [],
   "source": [
    "def bootstrap(df, num_observations, resamples=1000):\n",
    "    \"\"\"Draw bootstrap resamples from the data frame from one ratings column.\n",
    "\n",
    "    Parameters\n",
    "    ----------\n",
    "    num_observations: int\n",
    "        The number of obserations you want to pull.\n",
    "    \n",
    "    resamples: int\n",
    "      The number of bootstrap samples to draw from data frame.\n",
    "    \n",
    "    Returns\n",
    "    -------\n",
    "    bootstrap_samples: List[np.array]\n",
    "      The bootsrap resamples from the column in the data frame.  \n",
    "      Each array is a single bootstrap sample.\n",
    "    \"\"\"\n",
    "    bootstrap_samples = []\n",
    "    for k in range(resamples):\n",
    "        boot_indxs = np.random.randint(num_observations, size=num_observations)\n",
    "        boot_sample = df[boot_indxs]\n",
    "        bootstrap_samples.append(boot_sample)\n",
    "    return bootstrap_samples"
   ]
  },
  {
   "cell_type": "code",
   "execution_count": 201,
   "metadata": {},
   "outputs": [],
   "source": [
    "imdb_sampling = bootstrap(final_df['Imdb_Score'],30,resamples=100)"
   ]
  },
  {
   "cell_type": "code",
   "execution_count": 202,
   "metadata": {},
   "outputs": [
    {
     "data": {
      "text/plain": [
       "66.57"
      ]
     },
     "execution_count": 202,
     "metadata": {},
     "output_type": "execute_result"
    }
   ],
   "source": [
    "np.mean(imdb_sampling)"
   ]
  },
  {
   "cell_type": "code",
   "execution_count": 203,
   "metadata": {},
   "outputs": [],
   "source": [
    "rotten_sampling = bootstrap(final_df['Rotten_Score'],30,resamples=100)"
   ]
  },
  {
   "cell_type": "code",
   "execution_count": 204,
   "metadata": {},
   "outputs": [
    {
     "data": {
      "text/plain": [
       "55.19566666666667"
      ]
     },
     "execution_count": 204,
     "metadata": {},
     "output_type": "execute_result"
    }
   ],
   "source": [
    "np.mean(rotten_sampling)"
   ]
  },
  {
   "cell_type": "code",
   "execution_count": 205,
   "metadata": {},
   "outputs": [],
   "source": [
    "meta_sampling = bootstrap(final_df['Metacritic_Score'],30,resamples=100)"
   ]
  },
  {
   "cell_type": "code",
   "execution_count": 206,
   "metadata": {},
   "outputs": [
    {
     "data": {
      "text/plain": [
       "54.98233333333334"
      ]
     },
     "execution_count": 206,
     "metadata": {},
     "output_type": "execute_result"
    }
   ],
   "source": [
    "np.mean(meta_sampling)"
   ]
  },
  {
   "cell_type": "code",
   "execution_count": 207,
   "metadata": {},
   "outputs": [],
   "source": [
    "def bootstrap_confidence_interval(boostrap_samples, stat_function=np.mean, ci=95):\n",
    "    \"\"\"Calculate the CI of chosen sample statistic using bootstrap sampling.\n",
    "\n",
    "    CI = confidence interval\n",
    "\n",
    "    Parameters\n",
    "    ----------\n",
    "    bootstrap_sample: Numpy array\n",
    "        Array of samples from bootstrap method\n",
    "\n",
    "    stat_function: function, optional (default=np.mean)\n",
    "        Function for calculating as sample statistic on data\n",
    "\n",
    "    ci: int, optional (default=95)\n",
    "        Percent of distribution encompassed by CI, 0<ci<100\n",
    "\n",
    "    Returns\n",
    "    -------\n",
    "    tuple: lower_ci(float), upper_ci(float), bootstrap_samples_statistic(array)\n",
    "        Lower and upper bounds of CI, sample stat from each bootstrap sample\n",
    "    \"\"\"\n",
    "    bootstrap_samples_stat = list(map(stat_function, boostrap_samples))\n",
    "    low_bound = (100. - ci) / 2\n",
    "    high_bound = 100. - low_bound\n",
    "    lower_ci, upper_ci = np.percentile(bootstrap_samples_stat,\n",
    "                                       [low_bound, high_bound])\n",
    "    return lower_ci, upper_ci, bootstrap_samples_stat"
   ]
  },
  {
   "cell_type": "code",
   "execution_count": 208,
   "metadata": {},
   "outputs": [
    {
     "name": "stdout",
     "output_type": "stream",
     "text": [
      "The 95% bootstrapped CI of the mean: (63.398333333333326, 70.03333333333333)\n"
     ]
    }
   ],
   "source": [
    "lower_ci, upper_ci, bootstrap_means_prod = bootstrap_confidence_interval(imdb_sampling, ci=95)\n",
    "print(\"The 95% bootstrapped CI of the mean: ({}, {})\".format(lower_ci, upper_ci))"
   ]
  },
  {
   "cell_type": "code",
   "execution_count": 209,
   "metadata": {},
   "outputs": [
    {
     "data": {
      "text/plain": [
       "Text(0.5, 1.0, 'Imdb Bootstrap Samples')"
      ]
     },
     "execution_count": 209,
     "metadata": {},
     "output_type": "execute_result"
    },
    {
     "data": {
      "image/png": "[encoded data removed]",
      "text/plain": [
       "<Figure size 720x288 with 1 Axes>"
      ]
     },
     "metadata": {
      "needs_background": "light"
     },
     "output_type": "display_data"
    }
   ],
   "source": [
    "fig, ax = plt.subplots(figsize=(10, 4))\n",
    "\n",
    "ax.hist(bootstrap_means_prod, bins=20,color='green')\n",
    "ax.set_ylabel('Count')\n",
    "ax.set_xlabel('Bootstraped Samples')\n",
    "ax.set_title('Imdb Bootstrap Samples')"
   ]
  },
  {
   "cell_type": "code",
   "execution_count": 210,
   "metadata": {},
   "outputs": [
    {
     "name": "stdout",
     "output_type": "stream",
     "text": [
      "The 95% bootstrapped CI of the mean: (45.969166666666666, 63.19083333333333)\n"
     ]
    }
   ],
   "source": [
    "lower_ci, upper_ci, bootstrap_means_prod = bootstrap_confidence_interval(rotten_sampling, ci=95)\n",
    "print(\"The 95% bootstrapped CI of the mean: ({}, {})\".format(lower_ci, upper_ci))"
   ]
  },
  {
   "cell_type": "code",
   "execution_count": 211,
   "metadata": {},
   "outputs": [
    {
     "data": {
      "text/plain": [
       "Text(0.5, 1.0, 'Rotten Tomato Bootstrap Samples')"
      ]
     },
     "execution_count": 211,
     "metadata": {},
     "output_type": "execute_result"
    },
    {
     "data": {
      "image/png": "[encoded data removed]",
      "text/plain": [
       "<Figure size 720x288 with 1 Axes>"
      ]
     },
     "metadata": {
      "needs_background": "light"
     },
     "output_type": "display_data"
    }
   ],
   "source": [
    "fig, ax = plt.subplots(figsize=(10, 4))\n",
    "\n",
    "ax.hist(bootstrap_means_prod, bins=20, color='red')\n",
    "ax.set_ylabel('Count')\n",
    "ax.set_xlabel('Bootstraped Samples')\n",
    "ax.set_title('Rotten Tomato Bootstrap Samples')"
   ]
  },
  {
   "cell_type": "code",
   "execution_count": 212,
   "metadata": {},
   "outputs": [
    {
     "name": "stdout",
     "output_type": "stream",
     "text": [
      "The 95% bootstrapped CI of the mean: (48.43166666666667, 60.968333333333334)\n"
     ]
    }
   ],
   "source": [
    "lower_ci, upper_ci, bootstrap_means_prod = bootstrap_confidence_interval(meta_sampling, ci=95)\n",
    "print(\"The 95% bootstrapped CI of the mean: ({}, {})\".format(lower_ci, upper_ci))"
   ]
  },
  {
   "cell_type": "code",
   "execution_count": 213,
   "metadata": {
    "scrolled": true
   },
   "outputs": [
    {
     "data": {
      "text/plain": [
       "Text(0.5, 1.0, 'Metacrtitic Bootstrap Samples')"
      ]
     },
     "execution_count": 213,
     "metadata": {},
     "output_type": "execute_result"
    },
    {
     "data": {
      "image/png": "[encoded data removed]",
      "text/plain": [
       "<Figure size 720x288 with 1 Axes>"
      ]
     },
     "metadata": {
      "needs_background": "light"
     },
     "output_type": "display_data"
    }
   ],
   "source": [
    "fig, ax = plt.subplots(figsize=(10, 4))\n",
    "\n",
    "ax.hist(bootstrap_means_prod, bins=20)\n",
    "ax.set_ylabel('Count')\n",
    "ax.set_xlabel('Bootstraped Samples')\n",
    "ax.set_title('Metacrtitic Bootstrap Samples')"
   ]
  },
  {
   "cell_type": "code",
   "execution_count": null,
   "metadata": {},
   "outputs": [],
   "source": []
  },
  {
   "cell_type": "code",
   "execution_count": null,
   "metadata": {},
   "outputs": [],
   "source": [
    "import numpy as np\n",
    "import bootstrapped.bootstrap as bs\n",
    "import bootstrapped.stats_functions as bs_stats"
   ]
  },
  {
   "cell_type": "code",
   "execution_count": null,
   "metadata": {},
   "outputs": [],
   "source": [
    "mean = final_df['Imdb_Score'].mean()\n",
    "stdev = final_df['Imdb_Score'].std()\n",
    "print(mean, stdev)"
   ]
  },
  {
   "cell_type": "code",
   "execution_count": null,
   "metadata": {},
   "outputs": [],
   "source": [
    "population = np.random.normal(loc=mean, scale=stdev, size=50000)\n",
    "# take 1k 'samples' from the larger population\n",
    "samples = population[:1000]\n",
    "print(bs.bootstrap(samples, stat_func=bs_stats.mean))\n",
    "# >> 100.08  (99.46, 100.69)\n",
    "print(bs.bootstrap(samples, stat_func=bs_stats.std))\n",
    "# >> 9.49  (9.92, 10.36)"
   ]
  },
  {
   "cell_type": "code",
   "execution_count": 218,
   "metadata": {},
   "outputs": [
    {
     "name": "stderr",
     "output_type": "stream",
     "text": [
      "/home/colin/anaconda3/lib/python3.7/site-packages/yellowbrick/regressor/influence.py:183: UserWarning: In Matplotlib 3.3 individual lines on a stem plot will be added as a LineCollection instead of individual lines. This significantly improves the performance of a stem plot. To remove this warning and switch to the new behaviour, set the \"use_line_collection\" keyword argument to True.\n",
      "  self.distance_, linefmt=self.linefmt, markerfmt=self.markerfmt\n"
     ]
    },
    {
     "data": {
      "image/png": "[encoded data removed]",
      "text/plain": [
       "<Figure size 576x396 with 1 Axes>"
      ]
     },
     "metadata": {},
     "output_type": "display_data"
    },
    {
     "data": {
      "text/plain": [
       "<matplotlib.axes._subplots.AxesSubplot at 0x7f5c57f160b8>"
      ]
     },
     "execution_count": 218,
     "metadata": {},
     "output_type": "execute_result"
    }
   ],
   "source": [
    "from yellowbrick.regressor import CooksDistance\n",
    "from yellowbrick.datasets import load_concrete\n",
    "X, y = load_concrete()\n",
    "visualizer = CooksDistance()\n",
    "visualizer.fit(X, y)\n",
    "visualizer.poof()"
   ]
  }
 ],
 "metadata": {
  "kernelspec": {
   "display_name": "Python 3",
   "language": "python",
   "name": "python3"
  },
  "language_info": {
   "codemirror_mode": {
    "name": "ipython",
    "version": 3
   },
   "file_extension": ".py",
   "mimetype": "text/x-python",
   "name": "python",
   "nbconvert_exporter": "python",
   "pygments_lexer": "ipython3",
   "version": "3.7.3"
  }
 },
 "nbformat": 4,
 "nbformat_minor": 2
}
