{
 "cells": [
  {
   "cell_type": "code",
   "execution_count": 1,
   "metadata": {},
   "outputs": [],
   "source": [
    "import requests\n",
    "from bs4 import BeautifulSoup\n",
    "import re \n",
    "import pandas as pd \n",
    "import json\n",
    "import time"
   ]
  },
  {
   "cell_type": "code",
   "execution_count": 4,
   "metadata": {},
   "outputs": [],
   "source": [
    "def get_data_frames():\n",
    "    '''This scrapes the site www.the-numbers.com for the years of 2009 until 2019'''\n",
    "    headers = {'User-Agent': 'Mozilla/5.0 (Macintosh; Intel Mac OS X 10_10_1) AppleWebKit/537.36 (KHTML, like Gecko) Chrome/39.0.2171.95 Safari/537.36'} \n",
    "    years = range(2009,2020)\n",
    "    overall_df = pd.DataFrame()\n",
    "    for year in years:\n",
    "        url = f'https://www.the-numbers.com/box-office-records/worldwide/all-movies/cumulative/released-in-{year}' \n",
    "        time.sleep(1)\n",
    "        html = requests.get(url, headers=headers) # avoid the 403\n",
    "        yearly_df = pd.read_html(html.text)[1]\n",
    "        yearly_df.dropna(inplace=True)\n",
    "        yearly_df['year'] = year\n",
    "        overall_df.append(yearly_df)\n",
    "    return overall_df\n"
   ]
  },
  {
   "cell_type": "code",
   "execution_count": 6,
   "metadata": {},
   "outputs": [
    {
     "name": "stdout",
     "output_type": "stream",
     "text": [
      "Empty DataFrame\n",
      "Columns: []\n",
      "Index: []\n"
     ]
    }
   ],
   "source": [
    "print(get_data_frames())"
   ]
  },
  {
   "cell_type": "code",
   "execution_count": null,
   "metadata": {},
   "outputs": [],
   "source": [
    "def get_ratings(api_req,year):\n",
    "    '''This calls an api from omdbapi.com and returns a dictionary of values for the specified movies\n",
    "    that were in the yearly gross profits from get_data_frames'''\n",
    "    movies = overall_df['Movie']\n",
    "    year = overall_df['year']\n",
    "    movie_rating_list = []\n",
    "    for api_req in movies:\n",
    "        movie_name = f\"http://www.omdbapi.com/?t={api_req}&y={year}&apikey=b213361e\"\n",
    "        try:\n",
    "            movie_ratings = requests.get(movie_name)\n",
    "            year_2016_list.append(movie_ratings.text)\n",
    "        except\n",
    "    return movie_rating_list\n"
   ]
  },
  {
   "cell_type": "code",
   "execution_count": null,
   "metadata": {},
   "outputs": [],
   "source": []
  }
 ],
 "metadata": {
  "kernelspec": {
   "display_name": "Python 3",
   "language": "python",
   "name": "python3"
  },
  "language_info": {
   "codemirror_mode": {
    "name": "ipython",
    "version": 3
   },
   "file_extension": ".py",
   "mimetype": "text/x-python",
   "name": "python",
   "nbconvert_exporter": "python",
   "pygments_lexer": "ipython3",
   "version": "3.7.3"
  }
 },
 "nbformat": 4,
 "nbformat_minor": 2
}
