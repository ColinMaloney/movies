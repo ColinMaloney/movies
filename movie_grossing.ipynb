{
 "cells": [
  {
   "cell_type": "code",
   "execution_count": 1,
   "metadata": {},
   "outputs": [],
   "source": [
    "import requests\n",
    "from bs4 import BeautifulSoup\n",
    "import re \n",
    "import pandas as pd \n",
    "import json\n",
    "import time"
   ]
  },
  {
   "cell_type": "code",
   "execution_count": 2,
   "metadata": {},
   "outputs": [],
   "source": [
    "url = 'https://www.the-numbers.com/weekly-box-office-chart'"
   ]
  },
  {
   "cell_type": "code",
   "execution_count": 3,
   "metadata": {},
   "outputs": [],
   "source": [
    "data = requests.get(url)"
   ]
  },
  {
   "cell_type": "code",
   "execution_count": 4,
   "metadata": {},
   "outputs": [],
   "source": [
    "data_set = BeautifulSoup(data.text, 'html.parser')"
   ]
  },
  {
   "cell_type": "code",
   "execution_count": 10,
   "metadata": {},
   "outputs": [],
   "source": [
    "headers = {'User-Agent': 'Mozilla/5.0 (Macintosh; Intel Mac OS X 10_10_1) AppleWebKit/537.36 (KHTML, like Gecko) Chrome/39.0.2171.95 Safari/537.36'}\n",
    "\n",
    "html = requests.get(url, headers=headers) # avoid the 403\n",
    "weekly_df = pd.read_html(html.text)[1]\n",
    "weekly_df.columns = list(df.iloc[0].values)"
   ]
  },
  {
   "cell_type": "code",
   "execution_count": 11,
   "metadata": {},
   "outputs": [
    {
     "data": {
      "text/html": [
       "<div>\n",
       "<style scoped>\n",
       "    .dataframe tbody tr th:only-of-type {\n",
       "        vertical-align: middle;\n",
       "    }\n",
       "\n",
       "    .dataframe tbody tr th {\n",
       "        vertical-align: top;\n",
       "    }\n",
       "\n",
       "    .dataframe thead th {\n",
       "        text-align: right;\n",
       "    }\n",
       "</style>\n",
       "<table border=\"1\" class=\"dataframe\">\n",
       "  <thead>\n",
       "    <tr style=\"text-align: right;\">\n",
       "      <th></th>\n",
       "      <th>1</th>\n",
       "      <th>(1)</th>\n",
       "      <th>Angel Has Fallen</th>\n",
       "      <th>Lionsgate</th>\n",
       "      <th>$18,346,280</th>\n",
       "      <th>-37%</th>\n",
       "      <th>3336</th>\n",
       "      <th>$5,499</th>\n",
       "      <th>$47,460,501</th>\n",
       "      <th>2</th>\n",
       "    </tr>\n",
       "  </thead>\n",
       "  <tbody>\n",
       "    <tr>\n",
       "      <th>0</th>\n",
       "      <td>1</td>\n",
       "      <td>(1)</td>\n",
       "      <td>Angel Has Fallen</td>\n",
       "      <td>Lionsgate</td>\n",
       "      <td>$18,346,280</td>\n",
       "      <td>-37%</td>\n",
       "      <td>3336</td>\n",
       "      <td>$5,499</td>\n",
       "      <td>$47,460,501</td>\n",
       "      <td>2</td>\n",
       "    </tr>\n",
       "    <tr>\n",
       "      <th>1</th>\n",
       "      <td>2</td>\n",
       "      <td>(2)</td>\n",
       "      <td>Good Boys</td>\n",
       "      <td>Universal</td>\n",
       "      <td>$14,451,735</td>\n",
       "      <td>-13%</td>\n",
       "      <td>3458</td>\n",
       "      <td>$4,179</td>\n",
       "      <td>$61,459,700</td>\n",
       "      <td>3</td>\n",
       "    </tr>\n",
       "    <tr>\n",
       "      <th>2</th>\n",
       "      <td>3</td>\n",
       "      <td>(3)</td>\n",
       "      <td>The Lion King</td>\n",
       "      <td>Walt Disney</td>\n",
       "      <td>$10,684,145</td>\n",
       "      <td>-9%</td>\n",
       "      <td>3190</td>\n",
       "      <td>$3,349</td>\n",
       "      <td>$524,913,439</td>\n",
       "      <td>7</td>\n",
       "    </tr>\n",
       "    <tr>\n",
       "      <th>3</th>\n",
       "      <td>4</td>\n",
       "      <td>(6)</td>\n",
       "      <td>Fast &amp; Furious Presents: Ho…</td>\n",
       "      <td>Universal</td>\n",
       "      <td>$9,719,795</td>\n",
       "      <td>-14%</td>\n",
       "      <td>2972</td>\n",
       "      <td>$3,270</td>\n",
       "      <td>$160,532,145</td>\n",
       "      <td>5</td>\n",
       "    </tr>\n",
       "    <tr>\n",
       "      <th>4</th>\n",
       "      <td>5</td>\n",
       "      <td>(4)</td>\n",
       "      <td>Overcomer</td>\n",
       "      <td>Sony Pictures</td>\n",
       "      <td>$9,409,534</td>\n",
       "      <td>-19%</td>\n",
       "      <td>1827</td>\n",
       "      <td>$5,150</td>\n",
       "      <td>$20,956,163</td>\n",
       "      <td>2</td>\n",
       "    </tr>\n",
       "  </tbody>\n",
       "</table>\n",
       "</div>"
      ],
      "text/plain": [
       "   1  (1)              Angel Has Fallen      Lionsgate  $18,346,280  -37%  \\\n",
       "0  1  (1)              Angel Has Fallen      Lionsgate  $18,346,280  -37%   \n",
       "1  2  (2)                     Good Boys      Universal  $14,451,735  -13%   \n",
       "2  3  (3)                 The Lion King    Walt Disney  $10,684,145   -9%   \n",
       "3  4  (6)  Fast & Furious Presents: Ho…      Universal   $9,719,795  -14%   \n",
       "4  5  (4)                     Overcomer  Sony Pictures   $9,409,534  -19%   \n",
       "\n",
       "   3336  $5,499   $47,460,501  2  \n",
       "0  3336  $5,499   $47,460,501  2  \n",
       "1  3458  $4,179   $61,459,700  3  \n",
       "2  3190  $3,349  $524,913,439  7  \n",
       "3  2972  $3,270  $160,532,145  5  \n",
       "4  1827  $5,150   $20,956,163  2  "
      ]
     },
     "execution_count": 11,
     "metadata": {},
     "output_type": "execute_result"
    }
   ],
   "source": [
    "weekly_df.head()"
   ]
  },
  {
   "cell_type": "code",
   "execution_count": 12,
   "metadata": {},
   "outputs": [
    {
     "data": {
      "text/html": [
       "<div>\n",
       "<style scoped>\n",
       "    .dataframe tbody tr th:only-of-type {\n",
       "        vertical-align: middle;\n",
       "    }\n",
       "\n",
       "    .dataframe tbody tr th {\n",
       "        vertical-align: top;\n",
       "    }\n",
       "\n",
       "    .dataframe thead th {\n",
       "        text-align: right;\n",
       "    }\n",
       "</style>\n",
       "<table border=\"1\" class=\"dataframe\">\n",
       "  <thead>\n",
       "    <tr style=\"text-align: right;\">\n",
       "      <th></th>\n",
       "      <th>1</th>\n",
       "      <th>(1)</th>\n",
       "      <th>Angel Has Fallen</th>\n",
       "      <th>Lionsgate</th>\n",
       "      <th>$18,346,280</th>\n",
       "      <th>-37%</th>\n",
       "      <th>3336</th>\n",
       "      <th>$5,499</th>\n",
       "      <th>$47,460,501</th>\n",
       "      <th>2</th>\n",
       "    </tr>\n",
       "  </thead>\n",
       "  <tbody>\n",
       "    <tr>\n",
       "      <th>76</th>\n",
       "      <td>77</td>\n",
       "      <td>(86)</td>\n",
       "      <td>Christ Stopped at Eboli</td>\n",
       "      <td>Rialto Pictures</td>\n",
       "      <td>$678</td>\n",
       "      <td>+47%</td>\n",
       "      <td>1</td>\n",
       "      <td>$678</td>\n",
       "      <td>$75,839</td>\n",
       "      <td>2059</td>\n",
       "    </tr>\n",
       "    <tr>\n",
       "      <th>77</th>\n",
       "      <td>78</td>\n",
       "      <td>(77)</td>\n",
       "      <td>Diamantino</td>\n",
       "      <td>Kino Lorber</td>\n",
       "      <td>$603</td>\n",
       "      <td>-63%</td>\n",
       "      <td>1</td>\n",
       "      <td>$603</td>\n",
       "      <td>$70,088</td>\n",
       "      <td>15</td>\n",
       "    </tr>\n",
       "    <tr>\n",
       "      <th>78</th>\n",
       "      <td>79</td>\n",
       "      <td>(73)</td>\n",
       "      <td>Piranhas</td>\n",
       "      <td>Music Box Films</td>\n",
       "      <td>$303</td>\n",
       "      <td>-87%</td>\n",
       "      <td>2</td>\n",
       "      <td>$152</td>\n",
       "      <td>$19,368</td>\n",
       "      <td>5</td>\n",
       "    </tr>\n",
       "    <tr>\n",
       "      <th>79</th>\n",
       "      <td>80</td>\n",
       "      <td>(76)</td>\n",
       "      <td>The Mountain</td>\n",
       "      <td>Kino Lorber</td>\n",
       "      <td>$153</td>\n",
       "      <td>-92%</td>\n",
       "      <td>1</td>\n",
       "      <td>$153</td>\n",
       "      <td>$51,684</td>\n",
       "      <td>6</td>\n",
       "    </tr>\n",
       "    <tr>\n",
       "      <th>80</th>\n",
       "      <td>81</td>\n",
       "      <td>(-)</td>\n",
       "      <td>Hesburgh</td>\n",
       "      <td>OâMalley Creadon …</td>\n",
       "      <td>$112</td>\n",
       "      <td>NaN</td>\n",
       "      <td>1</td>\n",
       "      <td>$112</td>\n",
       "      <td>$197,560</td>\n",
       "      <td>19</td>\n",
       "    </tr>\n",
       "  </tbody>\n",
       "</table>\n",
       "</div>"
      ],
      "text/plain": [
       "     1   (1)         Angel Has Fallen             Lionsgate $18,346,280  -37%  \\\n",
       "76  77  (86)  Christ Stopped at Eboli       Rialto Pictures        $678  +47%   \n",
       "77  78  (77)               Diamantino           Kino Lorber        $603  -63%   \n",
       "78  79  (73)                 Piranhas       Music Box Films        $303  -87%   \n",
       "79  80  (76)             The Mountain           Kino Lorber        $153  -92%   \n",
       "80  81   (-)                 Hesburgh  OâMalley Creadon …        $112   NaN   \n",
       "\n",
       "    3336 $5,499 $47,460,501     2  \n",
       "76     1   $678     $75,839  2059  \n",
       "77     1   $603     $70,088    15  \n",
       "78     2   $152     $19,368     5  \n",
       "79     1   $153     $51,684     6  \n",
       "80     1   $112    $197,560    19  "
      ]
     },
     "execution_count": 12,
     "metadata": {},
     "output_type": "execute_result"
    }
   ],
   "source": [
    "weekly_df.tail()"
   ]
  },
  {
   "cell_type": "code",
   "execution_count": 24,
   "metadata": {},
   "outputs": [
    {
     "data": {
      "text/plain": [
       "DatetimeIndex(['2019-08-23', '2019-08-30'], dtype='datetime64[ns]', freq='W-FRI')"
      ]
     },
     "execution_count": 24,
     "metadata": {},
     "output_type": "execute_result"
    }
   ],
   "source": [
    "dates = pd.date_range(start='8/23/2019', periods=2, freq='W-FRI')\n",
    "dates"
   ]
  },
  {
   "cell_type": "code",
   "execution_count": null,
   "metadata": {},
   "outputs": [],
   "source": [
    "num = 23 \n",
    "older_charts = 'https://www.the-numbers.com/box-office-chart/weekly/2019/08/{num}'"
   ]
  },
  {
   "cell_type": "code",
   "execution_count": null,
   "metadata": {},
   "outputs": [],
   "source": [
    "\n",
    "# df['week_from_loop'] = '2018/01/07'\n",
    "df.head()\n",
    "\n",
    "\n",
    "# dates[1].strftime('%Y/%m/%d') # datetime object to a string\n",
    "# # .strptime (string to datetime object)\n",
    "\n",
    "# # 2019/08/23\n",
    "# dates_to_get = [\"https://www.the-numbers.com/box-office-chart/weekly/\" + \n",
    "#          x.strftime('%Y/%m/%d') for x in dates]"
   ]
  },
  {
   "cell_type": "code",
   "execution_count": 25,
   "metadata": {},
   "outputs": [],
   "source": [
    "url = 'https://www.the-numbers.com/box-office-records/worldwide/all-movies/cumulative/released-in-2016' "
   ]
  },
  {
   "cell_type": "code",
   "execution_count": 27,
   "metadata": {},
   "outputs": [],
   "source": [
    "headers = {'User-Agent': 'Mozilla/5.0 (Macintosh; Intel Mac OS X 10_10_1) AppleWebKit/537.36 (KHTML, like Gecko) Chrome/39.0.2171.95 Safari/537.36'}\n",
    "\n",
    "html = requests.get(url, headers=headers) # avoid the 403\n",
    "yearly_df = pd.read_html(html.text)[1]\n"
   ]
  },
  {
   "cell_type": "code",
   "execution_count": 29,
   "metadata": {},
   "outputs": [
    {
     "data": {
      "text/html": [
       "<div>\n",
       "<style scoped>\n",
       "    .dataframe tbody tr th:only-of-type {\n",
       "        vertical-align: middle;\n",
       "    }\n",
       "\n",
       "    .dataframe tbody tr th {\n",
       "        vertical-align: top;\n",
       "    }\n",
       "\n",
       "    .dataframe thead th {\n",
       "        text-align: right;\n",
       "    }\n",
       "</style>\n",
       "<table border=\"1\" class=\"dataframe\">\n",
       "  <thead>\n",
       "    <tr style=\"text-align: right;\">\n",
       "      <th></th>\n",
       "      <th>Rank</th>\n",
       "      <th>Movie</th>\n",
       "      <th>Worldwide Box Office</th>\n",
       "      <th>Domestic Box Office</th>\n",
       "      <th>International Box Office</th>\n",
       "      <th>DomesticShare</th>\n",
       "    </tr>\n",
       "  </thead>\n",
       "  <tbody>\n",
       "    <tr>\n",
       "      <th>95</th>\n",
       "      <td>96</td>\n",
       "      <td>Underworld: Blood Wars</td>\n",
       "      <td>$81,209,222</td>\n",
       "      <td>$30,353,973</td>\n",
       "      <td>$50,855,249</td>\n",
       "      <td>37.38%</td>\n",
       "    </tr>\n",
       "    <tr>\n",
       "      <th>96</th>\n",
       "      <td>97</td>\n",
       "      <td>The Boss</td>\n",
       "      <td>$78,652,207</td>\n",
       "      <td>$63,077,560</td>\n",
       "      <td>$15,574,647</td>\n",
       "      <td>80.20%</td>\n",
       "    </tr>\n",
       "    <tr>\n",
       "      <th>97</th>\n",
       "      <td>98</td>\n",
       "      <td>Manchester by the Sea</td>\n",
       "      <td>$77,733,867</td>\n",
       "      <td>$47,695,371</td>\n",
       "      <td>$30,038,496</td>\n",
       "      <td>61.36%</td>\n",
       "    </tr>\n",
       "    <tr>\n",
       "      <th>98</th>\n",
       "      <td>99</td>\n",
       "      <td>Kubo and the Two Strings</td>\n",
       "      <td>$77,548,122</td>\n",
       "      <td>$48,023,088</td>\n",
       "      <td>$29,525,034</td>\n",
       "      <td>61.93%</td>\n",
       "    </tr>\n",
       "    <tr>\n",
       "      <th>99</th>\n",
       "      <td>100</td>\n",
       "      <td>Mike and Dave Need Wedding Dates</td>\n",
       "      <td>$75,898,100</td>\n",
       "      <td>$46,009,673</td>\n",
       "      <td>$29,888,427</td>\n",
       "      <td>60.62%</td>\n",
       "    </tr>\n",
       "  </tbody>\n",
       "</table>\n",
       "</div>"
      ],
      "text/plain": [
       "    Rank                             Movie Worldwide Box Office  \\\n",
       "95    96            Underworld: Blood Wars          $81,209,222   \n",
       "96    97                          The Boss          $78,652,207   \n",
       "97    98             Manchester by the Sea          $77,733,867   \n",
       "98    99          Kubo and the Two Strings          $77,548,122   \n",
       "99   100  Mike and Dave Need Wedding Dates          $75,898,100   \n",
       "\n",
       "   Domestic Box Office International Box Office DomesticShare  \n",
       "95         $30,353,973              $50,855,249        37.38%  \n",
       "96         $63,077,560              $15,574,647        80.20%  \n",
       "97         $47,695,371              $30,038,496        61.36%  \n",
       "98         $48,023,088              $29,525,034        61.93%  \n",
       "99         $46,009,673              $29,888,427        60.62%  "
      ]
     },
     "execution_count": 29,
     "metadata": {},
     "output_type": "execute_result"
    }
   ],
   "source": [
    "yearly_df.tail()"
   ]
  },
  {
   "cell_type": "code",
   "execution_count": 42,
   "metadata": {},
   "outputs": [
    {
     "name": "stdout",
     "output_type": "stream",
     "text": [
      "Captain America: Civil War\n"
     ]
    },
    {
     "data": {
      "text/plain": [
       "'Captain America: Civil War'"
      ]
     },
     "execution_count": 42,
     "metadata": {},
     "output_type": "execute_result"
    }
   ],
   "source": [
    "movies = yearly_df['Movie'][0]\n",
    "print(movies.strip())\n",
    "api_req = movies.strip(' ')\n",
    "    \n",
    "movies\n"
   ]
  },
  {
   "cell_type": "code",
   "execution_count": 45,
   "metadata": {},
   "outputs": [],
   "source": [
    "CACW = f\"http://www.omdbapi.com/?t={movies}&y=2016&apikey=b213361e\""
   ]
  },
  {
   "cell_type": "code",
   "execution_count": 46,
   "metadata": {},
   "outputs": [],
   "source": [
    "CACW_req = requests.get(CACW)"
   ]
  },
  {
   "cell_type": "code",
   "execution_count": 50,
   "metadata": {},
   "outputs": [
    {
     "data": {
      "text/plain": [
       "'{\"Title\":\"Captain America: Civil War\",\"Year\":\"2016\",\"Rated\":\"PG-13\",\"Released\":\"06 May 2016\",\"Runtime\":\"147 min\",\"Genre\":\"Action, Adventure, Sci-Fi\",\"Director\":\"Anthony Russo, Joe Russo\",\"Writer\":\"Christopher Markus (screenplay by), Stephen McFeely (screenplay by), Joe Simon (based on the Marvel comics by), Jack Kirby (based on the Marvel comics by)\",\"Actors\":\"Chris Evans, Robert Downey Jr., Scarlett Johansson, Sebastian Stan\",\"Plot\":\"Political involvement in the Avengers\\' affairs causes a rift between Captain America and Iron Man.\",\"Language\":\"English, German, Xhosa, Russian, Romanian, Hindi\",\"Country\":\"USA\",\"Awards\":\"16 wins & 65 nominations.\",\"Poster\":\"https://m.media-amazon.com/images/M/MV5BMjQ0MTgyNjAxMV5BMl5BanBnXkFtZTgwNjUzMDkyODE@._V1_SX300.jpg\",\"Ratings\":[{\"Source\":\"Internet Movie Database\",\"Value\":\"7.8/10\"},{\"Source\":\"Rotten Tomatoes\",\"Value\":\"91%\"},{\"Source\":\"Metacritic\",\"Value\":\"75/100\"}],\"Metascore\":\"75\",\"imdbRating\":\"7.8\",\"imdbVotes\":\"597,664\",\"imdbID\":\"tt3498820\",\"Type\":\"movie\",\"DVD\":\"13 Sep 2016\",\"BoxOffice\":\"$408,080,554\",\"Production\":\"Walt Disney Pictures\",\"Website\":\"http://marvel.com/captainamerica#/home\",\"Response\":\"True\"}'"
      ]
     },
     "execution_count": 50,
     "metadata": {},
     "output_type": "execute_result"
    }
   ],
   "source": [
    "CACW_req.text"
   ]
  },
  {
   "cell_type": "code",
   "execution_count": null,
   "metadata": {},
   "outputs": [],
   "source": []
  },
  {
   "cell_type": "code",
   "execution_count": null,
   "metadata": {},
   "outputs": [],
   "source": []
  },
  {
   "cell_type": "code",
   "execution_count": null,
   "metadata": {},
   "outputs": [],
   "source": []
  },
  {
   "cell_type": "code",
   "execution_count": null,
   "metadata": {},
   "outputs": [],
   "source": []
  }
 ],
 "metadata": {
  "kernelspec": {
   "display_name": "Python 3",
   "language": "python",
   "name": "python3"
  },
  "language_info": {
   "codemirror_mode": {
    "name": "ipython",
    "version": 3
   },
   "file_extension": ".py",
   "mimetype": "text/x-python",
   "name": "python",
   "nbconvert_exporter": "python",
   "pygments_lexer": "ipython3",
   "version": "3.7.3"
  }
 },
 "nbformat": 4,
 "nbformat_minor": 2
}
